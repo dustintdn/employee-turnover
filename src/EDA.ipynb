{
 "cells": [
  {
   "cell_type": "markdown",
   "id": "39974ae1",
   "metadata": {},
   "source": [
    "# Employee Turnover Model\n",
    "\n",
    "## Exploratory Data Analysis (EDA)\n",
    "\n",
    "### Dataset Description\n",
    "\n",
    "In this notebook, I will be exploring the components and characteristics of the IBM HR Analytics Employee Attrition & Performance from Kaggle (originally sourced from IBM). In this dataset, there is demographic, compensation, and work/career data on 1,470 employees in a hypothetical company. For the purpose of this exercise which will be written as a report, we will call this company Magdalene Corporation.\n",
    "\n",
    "### What are we looking for?\n",
    " \n",
    "Context is extremely important in creating a revelant analysis. We are looking to understand the size of the dataset, the feature space, and the patterns in employee groups that could help us understand the common profile of people that may have a higher tendency to leave. We must understand this context in order to make the correct assumptions once modeling begins. This can be achieved through basic examinations through visualization and descriptive statistics."
   ]
  },
  {
   "cell_type": "code",
   "execution_count": 2,
   "id": "ad0072f4",
   "metadata": {},
   "outputs": [
    {
     "data": {
      "text/html": [
       "        <script type=\"text/javascript\">\n",
       "        window.PlotlyConfig = {MathJaxConfig: 'local'};\n",
       "        if (window.MathJax) {MathJax.Hub.Config({SVG: {font: \"STIX-Web\"}});}\n",
       "        if (typeof require !== 'undefined') {\n",
       "        require.undef(\"plotly\");\n",
       "        requirejs.config({\n",
       "            paths: {\n",
       "                'plotly': ['https://cdn.plot.ly/plotly-2.11.1.min']\n",
       "            }\n",
       "        });\n",
       "        require(['plotly'], function(Plotly) {\n",
       "            window._Plotly = Plotly;\n",
       "        });\n",
       "        }\n",
       "        </script>\n",
       "        "
      ]
     },
     "metadata": {},
     "output_type": "display_data"
    }
   ],
   "source": [
    "# Importing packages\n",
    "import pandas as pd\n",
    "import numpy as np\n",
    "import os\n",
    "from openpyxl import load_workbook\n",
    "from pandas.plotting import scatter_matrix\n",
    "import seaborn as sns\n",
    "from matplotlib import pyplot\n",
    "import matplotlib.pyplot as plt\n",
    "import string\n",
    "from scipy.stats import norm, skew\n",
    "import plotly.figure_factory as ff\n",
    "import plotly\n",
    "import chart_studio.plotly as py\n",
    "from plotly.offline import iplot\n",
    "import cufflinks as cf\n",
    "cf.go_offline()\n",
    "cf.set_config_file(offline=False, world_readable=True)"
   ]
  },
  {
   "cell_type": "markdown",
   "id": "79ef3867",
   "metadata": {},
   "source": [
    "##### Dataset Properties & Summary Statistics"
   ]
  },
  {
   "cell_type": "code",
   "execution_count": 3,
   "id": "e5264029",
   "metadata": {},
   "outputs": [],
   "source": [
    "# Set working dir and import our data\n",
    "PATH = \"C:\\\\1columbia\\\\funprojects\\\\employee-turnover\\\\\"\n",
    "os.chdir(PATH)\n",
    "\n",
    "ibm_df = pd.read_excel('data\\WA_Fn-UseC_-HR-Employee-Attrition.xlsx')"
   ]
  },
  {
   "cell_type": "code",
   "execution_count": 3,
   "id": "d4b28923",
   "metadata": {},
   "outputs": [
    {
     "data": {
      "text/html": [
       "<div>\n",
       "<style scoped>\n",
       "    .dataframe tbody tr th:only-of-type {\n",
       "        vertical-align: middle;\n",
       "    }\n",
       "\n",
       "    .dataframe tbody tr th {\n",
       "        vertical-align: top;\n",
       "    }\n",
       "\n",
       "    .dataframe thead th {\n",
       "        text-align: right;\n",
       "    }\n",
       "</style>\n",
       "<table border=\"1\" class=\"dataframe\">\n",
       "  <thead>\n",
       "    <tr style=\"text-align: right;\">\n",
       "      <th></th>\n",
       "      <th>Age</th>\n",
       "      <th>Attrition</th>\n",
       "      <th>BusinessTravel</th>\n",
       "      <th>DailyRate</th>\n",
       "      <th>Department</th>\n",
       "      <th>DistanceFromHome</th>\n",
       "      <th>Education</th>\n",
       "      <th>EducationField</th>\n",
       "      <th>EmployeeCount</th>\n",
       "      <th>EmployeeNumber</th>\n",
       "      <th>...</th>\n",
       "      <th>RelationshipSatisfaction</th>\n",
       "      <th>StandardHours</th>\n",
       "      <th>StockOptionLevel</th>\n",
       "      <th>TotalWorkingYears</th>\n",
       "      <th>TrainingTimesLastYear</th>\n",
       "      <th>WorkLifeBalance</th>\n",
       "      <th>YearsAtCompany</th>\n",
       "      <th>YearsInCurrentRole</th>\n",
       "      <th>YearsSinceLastPromotion</th>\n",
       "      <th>YearsWithCurrManager</th>\n",
       "    </tr>\n",
       "  </thead>\n",
       "  <tbody>\n",
       "    <tr>\n",
       "      <th>0</th>\n",
       "      <td>41</td>\n",
       "      <td>Yes</td>\n",
       "      <td>Travel_Rarely</td>\n",
       "      <td>1102</td>\n",
       "      <td>Sales</td>\n",
       "      <td>1</td>\n",
       "      <td>2</td>\n",
       "      <td>Life Sciences</td>\n",
       "      <td>1</td>\n",
       "      <td>1</td>\n",
       "      <td>...</td>\n",
       "      <td>1</td>\n",
       "      <td>80</td>\n",
       "      <td>0</td>\n",
       "      <td>8</td>\n",
       "      <td>0</td>\n",
       "      <td>1</td>\n",
       "      <td>6</td>\n",
       "      <td>4</td>\n",
       "      <td>0</td>\n",
       "      <td>5</td>\n",
       "    </tr>\n",
       "    <tr>\n",
       "      <th>1</th>\n",
       "      <td>49</td>\n",
       "      <td>No</td>\n",
       "      <td>Travel_Frequently</td>\n",
       "      <td>279</td>\n",
       "      <td>Research &amp; Development</td>\n",
       "      <td>8</td>\n",
       "      <td>1</td>\n",
       "      <td>Life Sciences</td>\n",
       "      <td>1</td>\n",
       "      <td>2</td>\n",
       "      <td>...</td>\n",
       "      <td>4</td>\n",
       "      <td>80</td>\n",
       "      <td>1</td>\n",
       "      <td>10</td>\n",
       "      <td>3</td>\n",
       "      <td>3</td>\n",
       "      <td>10</td>\n",
       "      <td>7</td>\n",
       "      <td>1</td>\n",
       "      <td>7</td>\n",
       "    </tr>\n",
       "    <tr>\n",
       "      <th>2</th>\n",
       "      <td>37</td>\n",
       "      <td>Yes</td>\n",
       "      <td>Travel_Rarely</td>\n",
       "      <td>1373</td>\n",
       "      <td>Research &amp; Development</td>\n",
       "      <td>2</td>\n",
       "      <td>2</td>\n",
       "      <td>Other</td>\n",
       "      <td>1</td>\n",
       "      <td>4</td>\n",
       "      <td>...</td>\n",
       "      <td>2</td>\n",
       "      <td>80</td>\n",
       "      <td>0</td>\n",
       "      <td>7</td>\n",
       "      <td>3</td>\n",
       "      <td>3</td>\n",
       "      <td>0</td>\n",
       "      <td>0</td>\n",
       "      <td>0</td>\n",
       "      <td>0</td>\n",
       "    </tr>\n",
       "    <tr>\n",
       "      <th>3</th>\n",
       "      <td>33</td>\n",
       "      <td>No</td>\n",
       "      <td>Travel_Frequently</td>\n",
       "      <td>1392</td>\n",
       "      <td>Research &amp; Development</td>\n",
       "      <td>3</td>\n",
       "      <td>4</td>\n",
       "      <td>Life Sciences</td>\n",
       "      <td>1</td>\n",
       "      <td>5</td>\n",
       "      <td>...</td>\n",
       "      <td>3</td>\n",
       "      <td>80</td>\n",
       "      <td>0</td>\n",
       "      <td>8</td>\n",
       "      <td>3</td>\n",
       "      <td>3</td>\n",
       "      <td>8</td>\n",
       "      <td>7</td>\n",
       "      <td>3</td>\n",
       "      <td>0</td>\n",
       "    </tr>\n",
       "    <tr>\n",
       "      <th>4</th>\n",
       "      <td>27</td>\n",
       "      <td>No</td>\n",
       "      <td>Travel_Rarely</td>\n",
       "      <td>591</td>\n",
       "      <td>Research &amp; Development</td>\n",
       "      <td>2</td>\n",
       "      <td>1</td>\n",
       "      <td>Medical</td>\n",
       "      <td>1</td>\n",
       "      <td>7</td>\n",
       "      <td>...</td>\n",
       "      <td>4</td>\n",
       "      <td>80</td>\n",
       "      <td>1</td>\n",
       "      <td>6</td>\n",
       "      <td>3</td>\n",
       "      <td>3</td>\n",
       "      <td>2</td>\n",
       "      <td>2</td>\n",
       "      <td>2</td>\n",
       "      <td>2</td>\n",
       "    </tr>\n",
       "  </tbody>\n",
       "</table>\n",
       "<p>5 rows × 35 columns</p>\n",
       "</div>"
      ],
      "text/plain": [
       "   Age Attrition     BusinessTravel  DailyRate              Department  \\\n",
       "0   41       Yes      Travel_Rarely       1102                   Sales   \n",
       "1   49        No  Travel_Frequently        279  Research & Development   \n",
       "2   37       Yes      Travel_Rarely       1373  Research & Development   \n",
       "3   33        No  Travel_Frequently       1392  Research & Development   \n",
       "4   27        No      Travel_Rarely        591  Research & Development   \n",
       "\n",
       "   DistanceFromHome  Education EducationField  EmployeeCount  EmployeeNumber  \\\n",
       "0                 1          2  Life Sciences              1               1   \n",
       "1                 8          1  Life Sciences              1               2   \n",
       "2                 2          2          Other              1               4   \n",
       "3                 3          4  Life Sciences              1               5   \n",
       "4                 2          1        Medical              1               7   \n",
       "\n",
       "   ...  RelationshipSatisfaction StandardHours  StockOptionLevel  \\\n",
       "0  ...                         1            80                 0   \n",
       "1  ...                         4            80                 1   \n",
       "2  ...                         2            80                 0   \n",
       "3  ...                         3            80                 0   \n",
       "4  ...                         4            80                 1   \n",
       "\n",
       "   TotalWorkingYears  TrainingTimesLastYear WorkLifeBalance  YearsAtCompany  \\\n",
       "0                  8                      0               1               6   \n",
       "1                 10                      3               3              10   \n",
       "2                  7                      3               3               0   \n",
       "3                  8                      3               3               8   \n",
       "4                  6                      3               3               2   \n",
       "\n",
       "  YearsInCurrentRole  YearsSinceLastPromotion  YearsWithCurrManager  \n",
       "0                  4                        0                     5  \n",
       "1                  7                        1                     7  \n",
       "2                  0                        0                     0  \n",
       "3                  7                        3                     0  \n",
       "4                  2                        2                     2  \n",
       "\n",
       "[5 rows x 35 columns]"
      ]
     },
     "execution_count": 3,
     "metadata": {},
     "output_type": "execute_result"
    }
   ],
   "source": [
    "ibm_df.head()"
   ]
  },
  {
   "cell_type": "code",
   "execution_count": 4,
   "id": "ef229103",
   "metadata": {},
   "outputs": [
    {
     "name": "stdout",
     "output_type": "stream",
     "text": [
      "(1470, 35)\n",
      "int64     26\n",
      "object     9\n",
      "dtype: int64\n"
     ]
    }
   ],
   "source": [
    "print(ibm_df.shape)\n",
    "print(ibm_df.dtypes.value_counts())"
   ]
  },
  {
   "cell_type": "code",
   "execution_count": 5,
   "id": "f77ae957",
   "metadata": {},
   "outputs": [
    {
     "name": "stdout",
     "output_type": "stream",
     "text": [
      "<class 'pandas.core.frame.DataFrame'>\n",
      "RangeIndex: 1470 entries, 0 to 1469\n",
      "Data columns (total 35 columns):\n",
      " #   Column                    Non-Null Count  Dtype \n",
      "---  ------                    --------------  ----- \n",
      " 0   Age                       1470 non-null   int64 \n",
      " 1   Attrition                 1470 non-null   object\n",
      " 2   BusinessTravel            1470 non-null   object\n",
      " 3   DailyRate                 1470 non-null   int64 \n",
      " 4   Department                1470 non-null   object\n",
      " 5   DistanceFromHome          1470 non-null   int64 \n",
      " 6   Education                 1470 non-null   int64 \n",
      " 7   EducationField            1470 non-null   object\n",
      " 8   EmployeeCount             1470 non-null   int64 \n",
      " 9   EmployeeNumber            1470 non-null   int64 \n",
      " 10  EnvironmentSatisfaction   1470 non-null   int64 \n",
      " 11  Gender                    1470 non-null   object\n",
      " 12  HourlyRate                1470 non-null   int64 \n",
      " 13  JobInvolvement            1470 non-null   int64 \n",
      " 14  JobLevel                  1470 non-null   int64 \n",
      " 15  JobRole                   1470 non-null   object\n",
      " 16  JobSatisfaction           1470 non-null   int64 \n",
      " 17  MaritalStatus             1470 non-null   object\n",
      " 18  MonthlyIncome             1470 non-null   int64 \n",
      " 19  MonthlyRate               1470 non-null   int64 \n",
      " 20  NumCompaniesWorked        1470 non-null   int64 \n",
      " 21  Over18                    1470 non-null   object\n",
      " 22  OverTime                  1470 non-null   object\n",
      " 23  PercentSalaryHike         1470 non-null   int64 \n",
      " 24  PerformanceRating         1470 non-null   int64 \n",
      " 25  RelationshipSatisfaction  1470 non-null   int64 \n",
      " 26  StandardHours             1470 non-null   int64 \n",
      " 27  StockOptionLevel          1470 non-null   int64 \n",
      " 28  TotalWorkingYears         1470 non-null   int64 \n",
      " 29  TrainingTimesLastYear     1470 non-null   int64 \n",
      " 30  WorkLifeBalance           1470 non-null   int64 \n",
      " 31  YearsAtCompany            1470 non-null   int64 \n",
      " 32  YearsInCurrentRole        1470 non-null   int64 \n",
      " 33  YearsSinceLastPromotion   1470 non-null   int64 \n",
      " 34  YearsWithCurrManager      1470 non-null   int64 \n",
      "dtypes: int64(26), object(9)\n",
      "memory usage: 402.1+ KB\n"
     ]
    }
   ],
   "source": [
    "ibm_df.info()"
   ]
  },
  {
   "cell_type": "code",
   "execution_count": 6,
   "id": "4e3ac7a3",
   "metadata": {},
   "outputs": [
    {
     "data": {
      "text/plain": [
       "(array([], dtype=int64), array([], dtype=int64))"
      ]
     },
     "execution_count": 6,
     "metadata": {},
     "output_type": "execute_result"
    }
   ],
   "source": [
    "# There 0 nulls, but what about empty strings?\n",
    "object_df = ibm_df.select_dtypes(['object'])\n",
    "np.where(object_df.applymap(lambda x: x == ''))"
   ]
  },
  {
   "cell_type": "code",
   "execution_count": 7,
   "id": "31859a72",
   "metadata": {},
   "outputs": [
    {
     "data": {
      "text/html": [
       "<div>\n",
       "<style scoped>\n",
       "    .dataframe tbody tr th:only-of-type {\n",
       "        vertical-align: middle;\n",
       "    }\n",
       "\n",
       "    .dataframe tbody tr th {\n",
       "        vertical-align: top;\n",
       "    }\n",
       "\n",
       "    .dataframe thead th {\n",
       "        text-align: right;\n",
       "    }\n",
       "</style>\n",
       "<table border=\"1\" class=\"dataframe\">\n",
       "  <thead>\n",
       "    <tr style=\"text-align: right;\">\n",
       "      <th></th>\n",
       "      <th>Age</th>\n",
       "      <th>DailyRate</th>\n",
       "      <th>DistanceFromHome</th>\n",
       "      <th>Education</th>\n",
       "      <th>EmployeeCount</th>\n",
       "      <th>EmployeeNumber</th>\n",
       "      <th>EnvironmentSatisfaction</th>\n",
       "      <th>HourlyRate</th>\n",
       "      <th>JobInvolvement</th>\n",
       "      <th>JobLevel</th>\n",
       "      <th>...</th>\n",
       "      <th>RelationshipSatisfaction</th>\n",
       "      <th>StandardHours</th>\n",
       "      <th>StockOptionLevel</th>\n",
       "      <th>TotalWorkingYears</th>\n",
       "      <th>TrainingTimesLastYear</th>\n",
       "      <th>WorkLifeBalance</th>\n",
       "      <th>YearsAtCompany</th>\n",
       "      <th>YearsInCurrentRole</th>\n",
       "      <th>YearsSinceLastPromotion</th>\n",
       "      <th>YearsWithCurrManager</th>\n",
       "    </tr>\n",
       "  </thead>\n",
       "  <tbody>\n",
       "    <tr>\n",
       "      <th>count</th>\n",
       "      <td>1470.000000</td>\n",
       "      <td>1470.000000</td>\n",
       "      <td>1470.000000</td>\n",
       "      <td>1470.000000</td>\n",
       "      <td>1470.0</td>\n",
       "      <td>1470.000000</td>\n",
       "      <td>1470.000000</td>\n",
       "      <td>1470.000000</td>\n",
       "      <td>1470.000000</td>\n",
       "      <td>1470.000000</td>\n",
       "      <td>...</td>\n",
       "      <td>1470.000000</td>\n",
       "      <td>1470.0</td>\n",
       "      <td>1470.000000</td>\n",
       "      <td>1470.000000</td>\n",
       "      <td>1470.000000</td>\n",
       "      <td>1470.000000</td>\n",
       "      <td>1470.000000</td>\n",
       "      <td>1470.000000</td>\n",
       "      <td>1470.000000</td>\n",
       "      <td>1470.000000</td>\n",
       "    </tr>\n",
       "    <tr>\n",
       "      <th>mean</th>\n",
       "      <td>36.923810</td>\n",
       "      <td>802.485714</td>\n",
       "      <td>9.192517</td>\n",
       "      <td>2.912925</td>\n",
       "      <td>1.0</td>\n",
       "      <td>1024.865306</td>\n",
       "      <td>2.721769</td>\n",
       "      <td>65.891156</td>\n",
       "      <td>2.729932</td>\n",
       "      <td>2.063946</td>\n",
       "      <td>...</td>\n",
       "      <td>2.712245</td>\n",
       "      <td>80.0</td>\n",
       "      <td>0.793878</td>\n",
       "      <td>11.279592</td>\n",
       "      <td>2.799320</td>\n",
       "      <td>2.761224</td>\n",
       "      <td>7.008163</td>\n",
       "      <td>4.229252</td>\n",
       "      <td>2.187755</td>\n",
       "      <td>4.123129</td>\n",
       "    </tr>\n",
       "    <tr>\n",
       "      <th>std</th>\n",
       "      <td>9.135373</td>\n",
       "      <td>403.509100</td>\n",
       "      <td>8.106864</td>\n",
       "      <td>1.024165</td>\n",
       "      <td>0.0</td>\n",
       "      <td>602.024335</td>\n",
       "      <td>1.093082</td>\n",
       "      <td>20.329428</td>\n",
       "      <td>0.711561</td>\n",
       "      <td>1.106940</td>\n",
       "      <td>...</td>\n",
       "      <td>1.081209</td>\n",
       "      <td>0.0</td>\n",
       "      <td>0.852077</td>\n",
       "      <td>7.780782</td>\n",
       "      <td>1.289271</td>\n",
       "      <td>0.706476</td>\n",
       "      <td>6.126525</td>\n",
       "      <td>3.623137</td>\n",
       "      <td>3.222430</td>\n",
       "      <td>3.568136</td>\n",
       "    </tr>\n",
       "    <tr>\n",
       "      <th>min</th>\n",
       "      <td>18.000000</td>\n",
       "      <td>102.000000</td>\n",
       "      <td>1.000000</td>\n",
       "      <td>1.000000</td>\n",
       "      <td>1.0</td>\n",
       "      <td>1.000000</td>\n",
       "      <td>1.000000</td>\n",
       "      <td>30.000000</td>\n",
       "      <td>1.000000</td>\n",
       "      <td>1.000000</td>\n",
       "      <td>...</td>\n",
       "      <td>1.000000</td>\n",
       "      <td>80.0</td>\n",
       "      <td>0.000000</td>\n",
       "      <td>0.000000</td>\n",
       "      <td>0.000000</td>\n",
       "      <td>1.000000</td>\n",
       "      <td>0.000000</td>\n",
       "      <td>0.000000</td>\n",
       "      <td>0.000000</td>\n",
       "      <td>0.000000</td>\n",
       "    </tr>\n",
       "    <tr>\n",
       "      <th>25%</th>\n",
       "      <td>30.000000</td>\n",
       "      <td>465.000000</td>\n",
       "      <td>2.000000</td>\n",
       "      <td>2.000000</td>\n",
       "      <td>1.0</td>\n",
       "      <td>491.250000</td>\n",
       "      <td>2.000000</td>\n",
       "      <td>48.000000</td>\n",
       "      <td>2.000000</td>\n",
       "      <td>1.000000</td>\n",
       "      <td>...</td>\n",
       "      <td>2.000000</td>\n",
       "      <td>80.0</td>\n",
       "      <td>0.000000</td>\n",
       "      <td>6.000000</td>\n",
       "      <td>2.000000</td>\n",
       "      <td>2.000000</td>\n",
       "      <td>3.000000</td>\n",
       "      <td>2.000000</td>\n",
       "      <td>0.000000</td>\n",
       "      <td>2.000000</td>\n",
       "    </tr>\n",
       "    <tr>\n",
       "      <th>50%</th>\n",
       "      <td>36.000000</td>\n",
       "      <td>802.000000</td>\n",
       "      <td>7.000000</td>\n",
       "      <td>3.000000</td>\n",
       "      <td>1.0</td>\n",
       "      <td>1020.500000</td>\n",
       "      <td>3.000000</td>\n",
       "      <td>66.000000</td>\n",
       "      <td>3.000000</td>\n",
       "      <td>2.000000</td>\n",
       "      <td>...</td>\n",
       "      <td>3.000000</td>\n",
       "      <td>80.0</td>\n",
       "      <td>1.000000</td>\n",
       "      <td>10.000000</td>\n",
       "      <td>3.000000</td>\n",
       "      <td>3.000000</td>\n",
       "      <td>5.000000</td>\n",
       "      <td>3.000000</td>\n",
       "      <td>1.000000</td>\n",
       "      <td>3.000000</td>\n",
       "    </tr>\n",
       "    <tr>\n",
       "      <th>75%</th>\n",
       "      <td>43.000000</td>\n",
       "      <td>1157.000000</td>\n",
       "      <td>14.000000</td>\n",
       "      <td>4.000000</td>\n",
       "      <td>1.0</td>\n",
       "      <td>1555.750000</td>\n",
       "      <td>4.000000</td>\n",
       "      <td>83.750000</td>\n",
       "      <td>3.000000</td>\n",
       "      <td>3.000000</td>\n",
       "      <td>...</td>\n",
       "      <td>4.000000</td>\n",
       "      <td>80.0</td>\n",
       "      <td>1.000000</td>\n",
       "      <td>15.000000</td>\n",
       "      <td>3.000000</td>\n",
       "      <td>3.000000</td>\n",
       "      <td>9.000000</td>\n",
       "      <td>7.000000</td>\n",
       "      <td>3.000000</td>\n",
       "      <td>7.000000</td>\n",
       "    </tr>\n",
       "    <tr>\n",
       "      <th>max</th>\n",
       "      <td>60.000000</td>\n",
       "      <td>1499.000000</td>\n",
       "      <td>29.000000</td>\n",
       "      <td>5.000000</td>\n",
       "      <td>1.0</td>\n",
       "      <td>2068.000000</td>\n",
       "      <td>4.000000</td>\n",
       "      <td>100.000000</td>\n",
       "      <td>4.000000</td>\n",
       "      <td>5.000000</td>\n",
       "      <td>...</td>\n",
       "      <td>4.000000</td>\n",
       "      <td>80.0</td>\n",
       "      <td>3.000000</td>\n",
       "      <td>40.000000</td>\n",
       "      <td>6.000000</td>\n",
       "      <td>4.000000</td>\n",
       "      <td>40.000000</td>\n",
       "      <td>18.000000</td>\n",
       "      <td>15.000000</td>\n",
       "      <td>17.000000</td>\n",
       "    </tr>\n",
       "  </tbody>\n",
       "</table>\n",
       "<p>8 rows × 26 columns</p>\n",
       "</div>"
      ],
      "text/plain": [
       "               Age    DailyRate  DistanceFromHome    Education  EmployeeCount  \\\n",
       "count  1470.000000  1470.000000       1470.000000  1470.000000         1470.0   \n",
       "mean     36.923810   802.485714          9.192517     2.912925            1.0   \n",
       "std       9.135373   403.509100          8.106864     1.024165            0.0   \n",
       "min      18.000000   102.000000          1.000000     1.000000            1.0   \n",
       "25%      30.000000   465.000000          2.000000     2.000000            1.0   \n",
       "50%      36.000000   802.000000          7.000000     3.000000            1.0   \n",
       "75%      43.000000  1157.000000         14.000000     4.000000            1.0   \n",
       "max      60.000000  1499.000000         29.000000     5.000000            1.0   \n",
       "\n",
       "       EmployeeNumber  EnvironmentSatisfaction   HourlyRate  JobInvolvement  \\\n",
       "count     1470.000000              1470.000000  1470.000000     1470.000000   \n",
       "mean      1024.865306                 2.721769    65.891156        2.729932   \n",
       "std        602.024335                 1.093082    20.329428        0.711561   \n",
       "min          1.000000                 1.000000    30.000000        1.000000   \n",
       "25%        491.250000                 2.000000    48.000000        2.000000   \n",
       "50%       1020.500000                 3.000000    66.000000        3.000000   \n",
       "75%       1555.750000                 4.000000    83.750000        3.000000   \n",
       "max       2068.000000                 4.000000   100.000000        4.000000   \n",
       "\n",
       "          JobLevel  ...  RelationshipSatisfaction  StandardHours  \\\n",
       "count  1470.000000  ...               1470.000000         1470.0   \n",
       "mean      2.063946  ...                  2.712245           80.0   \n",
       "std       1.106940  ...                  1.081209            0.0   \n",
       "min       1.000000  ...                  1.000000           80.0   \n",
       "25%       1.000000  ...                  2.000000           80.0   \n",
       "50%       2.000000  ...                  3.000000           80.0   \n",
       "75%       3.000000  ...                  4.000000           80.0   \n",
       "max       5.000000  ...                  4.000000           80.0   \n",
       "\n",
       "       StockOptionLevel  TotalWorkingYears  TrainingTimesLastYear  \\\n",
       "count       1470.000000        1470.000000            1470.000000   \n",
       "mean           0.793878          11.279592               2.799320   \n",
       "std            0.852077           7.780782               1.289271   \n",
       "min            0.000000           0.000000               0.000000   \n",
       "25%            0.000000           6.000000               2.000000   \n",
       "50%            1.000000          10.000000               3.000000   \n",
       "75%            1.000000          15.000000               3.000000   \n",
       "max            3.000000          40.000000               6.000000   \n",
       "\n",
       "       WorkLifeBalance  YearsAtCompany  YearsInCurrentRole  \\\n",
       "count      1470.000000     1470.000000         1470.000000   \n",
       "mean          2.761224        7.008163            4.229252   \n",
       "std           0.706476        6.126525            3.623137   \n",
       "min           1.000000        0.000000            0.000000   \n",
       "25%           2.000000        3.000000            2.000000   \n",
       "50%           3.000000        5.000000            3.000000   \n",
       "75%           3.000000        9.000000            7.000000   \n",
       "max           4.000000       40.000000           18.000000   \n",
       "\n",
       "       YearsSinceLastPromotion  YearsWithCurrManager  \n",
       "count              1470.000000           1470.000000  \n",
       "mean                  2.187755              4.123129  \n",
       "std                   3.222430              3.568136  \n",
       "min                   0.000000              0.000000  \n",
       "25%                   0.000000              2.000000  \n",
       "50%                   1.000000              3.000000  \n",
       "75%                   3.000000              7.000000  \n",
       "max                  15.000000             17.000000  \n",
       "\n",
       "[8 rows x 26 columns]"
      ]
     },
     "execution_count": 7,
     "metadata": {},
     "output_type": "execute_result"
    }
   ],
   "source": [
    "#Summary statistics\n",
    "ibm_df.describe()"
   ]
  },
  {
   "cell_type": "code",
   "execution_count": 8,
   "id": "f9bfe50f",
   "metadata": {},
   "outputs": [
    {
     "data": {
      "image/png": "[encoded data removed]",
      "text/plain": [
       "<Figure size 1080x1080 with 30 Axes>"
      ]
     },
     "metadata": {
      "needs_background": "light"
     },
     "output_type": "display_data"
    }
   ],
   "source": [
    "ibm_df.hist(figsize=(15,15))\n",
    "plt.show()"
   ]
  },
  {
   "cell_type": "markdown",
   "id": "5506b5e3",
   "metadata": {},
   "source": [
    "#### Data Structure\n",
    "\n",
    "The dataset has a shape of (1470, 35): which means there are 35 variables and 1,470 rows. Of the columns, there are 26 numeric variables and 9 non-numeric variable. There are also no numerical nulls or empty strings.\n",
    "\n",
    "#### Variable Distribution (Numeric)\n",
    "\n",
    "There are two constant values:\n",
    "1. Employee Count\n",
    "2. Standard Hours \n",
    "\n",
    "These variables are left-skewed:\n",
    "1. Education\n",
    "2. Environment Satisfaction\n",
    "3. Job Involvement\n",
    "4. Job Satisfaction\n",
    "5. Relationship Satisfaction\n",
    "6. Work Life Balance\n",
    "\n",
    "These variables are right-skewed\n",
    "1. Age\n",
    "2. Distance from Home\n",
    "3. Job Level\n",
    "4. Monthly Income\n",
    "5. Number of Companies Worked\n",
    "6. Percent Salary Hike\n",
    "7. Stock Option Level\n",
    "8. Total Working Hours\n",
    "9. Years at Company\n",
    "10. Years in Current Role\n",
    "11. Years Since Last Promotion\n",
    "12. Years with Current Manager (Bimodal)"
   ]
  },
  {
   "cell_type": "markdown",
   "id": "07053d88",
   "metadata": {},
   "source": [
    "##### Observing Features by Attrition (Active/Terminated)\n",
    "\n",
    "To further our understanding and identify bias in the dataset, we must compare the employee data between active employees and terminated employees.\n",
    "\n",
    "Below is an examination of commonly observed employee features in HR analytics partitioned by active status."
   ]
  },
  {
   "cell_type": "code",
   "execution_count": 9,
   "id": "6fce47ff",
   "metadata": {
    "scrolled": true
   },
   "outputs": [
    {
     "data": {
      "text/html": [
       "<div>\n",
       "<style scoped>\n",
       "    .dataframe tbody tr th:only-of-type {\n",
       "        vertical-align: middle;\n",
       "    }\n",
       "\n",
       "    .dataframe tbody tr th {\n",
       "        vertical-align: top;\n",
       "    }\n",
       "\n",
       "    .dataframe thead th {\n",
       "        text-align: right;\n",
       "    }\n",
       "</style>\n",
       "<table border=\"1\" class=\"dataframe\">\n",
       "  <thead>\n",
       "    <tr style=\"text-align: right;\">\n",
       "      <th></th>\n",
       "      <th>Age</th>\n",
       "      <th>DailyRate</th>\n",
       "      <th>DistanceFromHome</th>\n",
       "      <th>Education</th>\n",
       "      <th>EmployeeCount</th>\n",
       "      <th>EmployeeNumber</th>\n",
       "      <th>EnvironmentSatisfaction</th>\n",
       "      <th>HourlyRate</th>\n",
       "      <th>JobInvolvement</th>\n",
       "      <th>JobLevel</th>\n",
       "      <th>...</th>\n",
       "      <th>RelationshipSatisfaction</th>\n",
       "      <th>StandardHours</th>\n",
       "      <th>StockOptionLevel</th>\n",
       "      <th>TotalWorkingYears</th>\n",
       "      <th>TrainingTimesLastYear</th>\n",
       "      <th>WorkLifeBalance</th>\n",
       "      <th>YearsAtCompany</th>\n",
       "      <th>YearsInCurrentRole</th>\n",
       "      <th>YearsSinceLastPromotion</th>\n",
       "      <th>YearsWithCurrManager</th>\n",
       "    </tr>\n",
       "  </thead>\n",
       "  <tbody>\n",
       "    <tr>\n",
       "      <th>count</th>\n",
       "      <td>1470.000000</td>\n",
       "      <td>1470.000000</td>\n",
       "      <td>1470.000000</td>\n",
       "      <td>1470.000000</td>\n",
       "      <td>1470.0</td>\n",
       "      <td>1470.000000</td>\n",
       "      <td>1470.000000</td>\n",
       "      <td>1470.000000</td>\n",
       "      <td>1470.000000</td>\n",
       "      <td>1470.000000</td>\n",
       "      <td>...</td>\n",
       "      <td>1470.000000</td>\n",
       "      <td>1470.0</td>\n",
       "      <td>1470.000000</td>\n",
       "      <td>1470.000000</td>\n",
       "      <td>1470.000000</td>\n",
       "      <td>1470.000000</td>\n",
       "      <td>1470.000000</td>\n",
       "      <td>1470.000000</td>\n",
       "      <td>1470.000000</td>\n",
       "      <td>1470.000000</td>\n",
       "    </tr>\n",
       "    <tr>\n",
       "      <th>mean</th>\n",
       "      <td>36.923810</td>\n",
       "      <td>802.485714</td>\n",
       "      <td>9.192517</td>\n",
       "      <td>2.912925</td>\n",
       "      <td>1.0</td>\n",
       "      <td>1024.865306</td>\n",
       "      <td>2.721769</td>\n",
       "      <td>65.891156</td>\n",
       "      <td>2.729932</td>\n",
       "      <td>2.063946</td>\n",
       "      <td>...</td>\n",
       "      <td>2.712245</td>\n",
       "      <td>80.0</td>\n",
       "      <td>0.793878</td>\n",
       "      <td>11.279592</td>\n",
       "      <td>2.799320</td>\n",
       "      <td>2.761224</td>\n",
       "      <td>7.008163</td>\n",
       "      <td>4.229252</td>\n",
       "      <td>2.187755</td>\n",
       "      <td>4.123129</td>\n",
       "    </tr>\n",
       "    <tr>\n",
       "      <th>std</th>\n",
       "      <td>9.135373</td>\n",
       "      <td>403.509100</td>\n",
       "      <td>8.106864</td>\n",
       "      <td>1.024165</td>\n",
       "      <td>0.0</td>\n",
       "      <td>602.024335</td>\n",
       "      <td>1.093082</td>\n",
       "      <td>20.329428</td>\n",
       "      <td>0.711561</td>\n",
       "      <td>1.106940</td>\n",
       "      <td>...</td>\n",
       "      <td>1.081209</td>\n",
       "      <td>0.0</td>\n",
       "      <td>0.852077</td>\n",
       "      <td>7.780782</td>\n",
       "      <td>1.289271</td>\n",
       "      <td>0.706476</td>\n",
       "      <td>6.126525</td>\n",
       "      <td>3.623137</td>\n",
       "      <td>3.222430</td>\n",
       "      <td>3.568136</td>\n",
       "    </tr>\n",
       "    <tr>\n",
       "      <th>min</th>\n",
       "      <td>18.000000</td>\n",
       "      <td>102.000000</td>\n",
       "      <td>1.000000</td>\n",
       "      <td>1.000000</td>\n",
       "      <td>1.0</td>\n",
       "      <td>1.000000</td>\n",
       "      <td>1.000000</td>\n",
       "      <td>30.000000</td>\n",
       "      <td>1.000000</td>\n",
       "      <td>1.000000</td>\n",
       "      <td>...</td>\n",
       "      <td>1.000000</td>\n",
       "      <td>80.0</td>\n",
       "      <td>0.000000</td>\n",
       "      <td>0.000000</td>\n",
       "      <td>0.000000</td>\n",
       "      <td>1.000000</td>\n",
       "      <td>0.000000</td>\n",
       "      <td>0.000000</td>\n",
       "      <td>0.000000</td>\n",
       "      <td>0.000000</td>\n",
       "    </tr>\n",
       "    <tr>\n",
       "      <th>25%</th>\n",
       "      <td>30.000000</td>\n",
       "      <td>465.000000</td>\n",
       "      <td>2.000000</td>\n",
       "      <td>2.000000</td>\n",
       "      <td>1.0</td>\n",
       "      <td>491.250000</td>\n",
       "      <td>2.000000</td>\n",
       "      <td>48.000000</td>\n",
       "      <td>2.000000</td>\n",
       "      <td>1.000000</td>\n",
       "      <td>...</td>\n",
       "      <td>2.000000</td>\n",
       "      <td>80.0</td>\n",
       "      <td>0.000000</td>\n",
       "      <td>6.000000</td>\n",
       "      <td>2.000000</td>\n",
       "      <td>2.000000</td>\n",
       "      <td>3.000000</td>\n",
       "      <td>2.000000</td>\n",
       "      <td>0.000000</td>\n",
       "      <td>2.000000</td>\n",
       "    </tr>\n",
       "    <tr>\n",
       "      <th>50%</th>\n",
       "      <td>36.000000</td>\n",
       "      <td>802.000000</td>\n",
       "      <td>7.000000</td>\n",
       "      <td>3.000000</td>\n",
       "      <td>1.0</td>\n",
       "      <td>1020.500000</td>\n",
       "      <td>3.000000</td>\n",
       "      <td>66.000000</td>\n",
       "      <td>3.000000</td>\n",
       "      <td>2.000000</td>\n",
       "      <td>...</td>\n",
       "      <td>3.000000</td>\n",
       "      <td>80.0</td>\n",
       "      <td>1.000000</td>\n",
       "      <td>10.000000</td>\n",
       "      <td>3.000000</td>\n",
       "      <td>3.000000</td>\n",
       "      <td>5.000000</td>\n",
       "      <td>3.000000</td>\n",
       "      <td>1.000000</td>\n",
       "      <td>3.000000</td>\n",
       "    </tr>\n",
       "    <tr>\n",
       "      <th>75%</th>\n",
       "      <td>43.000000</td>\n",
       "      <td>1157.000000</td>\n",
       "      <td>14.000000</td>\n",
       "      <td>4.000000</td>\n",
       "      <td>1.0</td>\n",
       "      <td>1555.750000</td>\n",
       "      <td>4.000000</td>\n",
       "      <td>83.750000</td>\n",
       "      <td>3.000000</td>\n",
       "      <td>3.000000</td>\n",
       "      <td>...</td>\n",
       "      <td>4.000000</td>\n",
       "      <td>80.0</td>\n",
       "      <td>1.000000</td>\n",
       "      <td>15.000000</td>\n",
       "      <td>3.000000</td>\n",
       "      <td>3.000000</td>\n",
       "      <td>9.000000</td>\n",
       "      <td>7.000000</td>\n",
       "      <td>3.000000</td>\n",
       "      <td>7.000000</td>\n",
       "    </tr>\n",
       "    <tr>\n",
       "      <th>max</th>\n",
       "      <td>60.000000</td>\n",
       "      <td>1499.000000</td>\n",
       "      <td>29.000000</td>\n",
       "      <td>5.000000</td>\n",
       "      <td>1.0</td>\n",
       "      <td>2068.000000</td>\n",
       "      <td>4.000000</td>\n",
       "      <td>100.000000</td>\n",
       "      <td>4.000000</td>\n",
       "      <td>5.000000</td>\n",
       "      <td>...</td>\n",
       "      <td>4.000000</td>\n",
       "      <td>80.0</td>\n",
       "      <td>3.000000</td>\n",
       "      <td>40.000000</td>\n",
       "      <td>6.000000</td>\n",
       "      <td>4.000000</td>\n",
       "      <td>40.000000</td>\n",
       "      <td>18.000000</td>\n",
       "      <td>15.000000</td>\n",
       "      <td>17.000000</td>\n",
       "    </tr>\n",
       "  </tbody>\n",
       "</table>\n",
       "<p>8 rows × 26 columns</p>\n",
       "</div>"
      ],
      "text/plain": [
       "               Age    DailyRate  DistanceFromHome    Education  EmployeeCount  \\\n",
       "count  1470.000000  1470.000000       1470.000000  1470.000000         1470.0   \n",
       "mean     36.923810   802.485714          9.192517     2.912925            1.0   \n",
       "std       9.135373   403.509100          8.106864     1.024165            0.0   \n",
       "min      18.000000   102.000000          1.000000     1.000000            1.0   \n",
       "25%      30.000000   465.000000          2.000000     2.000000            1.0   \n",
       "50%      36.000000   802.000000          7.000000     3.000000            1.0   \n",
       "75%      43.000000  1157.000000         14.000000     4.000000            1.0   \n",
       "max      60.000000  1499.000000         29.000000     5.000000            1.0   \n",
       "\n",
       "       EmployeeNumber  EnvironmentSatisfaction   HourlyRate  JobInvolvement  \\\n",
       "count     1470.000000              1470.000000  1470.000000     1470.000000   \n",
       "mean      1024.865306                 2.721769    65.891156        2.729932   \n",
       "std        602.024335                 1.093082    20.329428        0.711561   \n",
       "min          1.000000                 1.000000    30.000000        1.000000   \n",
       "25%        491.250000                 2.000000    48.000000        2.000000   \n",
       "50%       1020.500000                 3.000000    66.000000        3.000000   \n",
       "75%       1555.750000                 4.000000    83.750000        3.000000   \n",
       "max       2068.000000                 4.000000   100.000000        4.000000   \n",
       "\n",
       "          JobLevel  ...  RelationshipSatisfaction  StandardHours  \\\n",
       "count  1470.000000  ...               1470.000000         1470.0   \n",
       "mean      2.063946  ...                  2.712245           80.0   \n",
       "std       1.106940  ...                  1.081209            0.0   \n",
       "min       1.000000  ...                  1.000000           80.0   \n",
       "25%       1.000000  ...                  2.000000           80.0   \n",
       "50%       2.000000  ...                  3.000000           80.0   \n",
       "75%       3.000000  ...                  4.000000           80.0   \n",
       "max       5.000000  ...                  4.000000           80.0   \n",
       "\n",
       "       StockOptionLevel  TotalWorkingYears  TrainingTimesLastYear  \\\n",
       "count       1470.000000        1470.000000            1470.000000   \n",
       "mean           0.793878          11.279592               2.799320   \n",
       "std            0.852077           7.780782               1.289271   \n",
       "min            0.000000           0.000000               0.000000   \n",
       "25%            0.000000           6.000000               2.000000   \n",
       "50%            1.000000          10.000000               3.000000   \n",
       "75%            1.000000          15.000000               3.000000   \n",
       "max            3.000000          40.000000               6.000000   \n",
       "\n",
       "       WorkLifeBalance  YearsAtCompany  YearsInCurrentRole  \\\n",
       "count      1470.000000     1470.000000         1470.000000   \n",
       "mean          2.761224        7.008163            4.229252   \n",
       "std           0.706476        6.126525            3.623137   \n",
       "min           1.000000        0.000000            0.000000   \n",
       "25%           2.000000        3.000000            2.000000   \n",
       "50%           3.000000        5.000000            3.000000   \n",
       "75%           3.000000        9.000000            7.000000   \n",
       "max           4.000000       40.000000           18.000000   \n",
       "\n",
       "       YearsSinceLastPromotion  YearsWithCurrManager  \n",
       "count              1470.000000           1470.000000  \n",
       "mean                  2.187755              4.123129  \n",
       "std                   3.222430              3.568136  \n",
       "min                   0.000000              0.000000  \n",
       "25%                   0.000000              2.000000  \n",
       "50%                   1.000000              3.000000  \n",
       "75%                   3.000000              7.000000  \n",
       "max                  15.000000             17.000000  \n",
       "\n",
       "[8 rows x 26 columns]"
      ]
     },
     "execution_count": 9,
     "metadata": {},
     "output_type": "execute_result"
    }
   ],
   "source": [
    "# Looking at a selection of ... \n",
    "# Scrap?\n",
    "favorite_list = []\n",
    "subset_df = ibm_df[favorite_list]\n",
    "ibm_df.describe()"
   ]
  },
  {
   "cell_type": "markdown",
   "id": "48cef00e",
   "metadata": {},
   "source": [
    "##### Department & Job Role\n",
    "\n",
    "Does high turnover exist in specific departments or job functions?\n",
    "\n",
    "It appears that turnover happens most frequently in the Sales department, and the Sales Associate role is driving this high department average turnover. There is also notably high turnover for Laboratory Technician. "
   ]
  },
  {
   "cell_type": "code",
   "execution_count": 10,
   "id": "28580ede",
   "metadata": {},
   "outputs": [
    {
     "name": "stdout",
     "output_type": "stream",
     "text": [
      "Sales Executive              326\n",
      "Research Scientist           292\n",
      "Laboratory Technician        259\n",
      "Manufacturing Director       145\n",
      "Healthcare Representative    131\n",
      "Manager                      102\n",
      "Sales Representative          83\n",
      "Research Director             80\n",
      "Human Resources               52\n",
      "Name: JobRole, dtype: int64\n",
      "Research & Development    961\n",
      "Sales                     446\n",
      "Human Resources            63\n",
      "Name: Department, dtype: int64\n"
     ]
    }
   ],
   "source": [
    "# Distribution of jobs/dept in the full dataset\n",
    "\n",
    "print(ibm_df['JobRole'].value_counts())\n",
    "print(ibm_df['Department'].value_counts())"
   ]
  },
  {
   "cell_type": "code",
   "execution_count": 16,
   "id": "75441b60",
   "metadata": {},
   "outputs": [
    {
     "data": {
      "image/png": "[encoded data removed]",
      "text/plain": [
       "<Figure size 432x288 with 1 Axes>"
      ]
     },
     "metadata": {
      "needs_background": "light"
     },
     "output_type": "display_data"
    }
   ],
   "source": [
    "# Department\n",
    "dept_df = pd.DataFrame(columns=[\"Department\", \"% of Leavers\"])\n",
    "col = 0\n",
    "for x in list(ibm_df['Department'].unique()):\n",
    "    ratio = ibm_df[(ibm_df['Department']==x)&(ibm_df['Attrition']==\"Yes\")].shape[0] / ibm_df[ibm_df['Department']==x].shape[0]\n",
    "    dept_df.loc[col] = (x, ratio*100)\n",
    "    col += 1  \n",
    "\n",
    "plot_data = dept_df.groupby(by=\"Department\").sum().reset_index()\n",
    "plt.bar(plot_data.Department, plot_data['% of Leavers'])\n",
    "\n",
    "plt.xlabel(\"Department\")\n",
    "plt.ylabel(\"Percentage of Attrition\")\n",
    "plt.xticks(rotation=15)\n",
    "plt.title(\"Company Attrition by Department\")\n",
    "plt.show()"
   ]
  },
  {
   "cell_type": "code",
   "execution_count": 12,
   "id": "6603fe73",
   "metadata": {},
   "outputs": [
    {
     "data": {
      "image/png": "[encoded data removed]",
      "text/plain": [
       "<Figure size 432x288 with 1 Axes>"
      ]
     },
     "metadata": {
      "needs_background": "light"
     },
     "output_type": "display_data"
    }
   ],
   "source": [
    "# Job Role\n",
    "df_JobRole = pd.DataFrame(columns=[\"Job Role\", \"% of Leavers\"])\n",
    "i = 0\n",
    "for field in list(ibm_df['JobRole'].unique()):\n",
    "    ratio = ibm_df[(ibm_df['JobRole']==field)&(ibm_df['Attrition']==\"Yes\")].shape[0] / ibm_df[ibm_df['JobRole']==field].shape[0]\n",
    "    df_JobRole.loc[i] = (field, ratio*100)\n",
    "    i += 1\n",
    "    #print(\"In {}, the ratio of leavers is {:.2f}%\".format(field, ratio*100))\n",
    "\n",
    "plot_data = df_JobRole.groupby(by=\"Job Role\").sum().reset_index()\n",
    "plt.barh(plot_data['Job Role'], plot_data['% of Leavers'])\n",
    "plt.xlabel(\"Percentage of Attrition\")\n",
    "plt.title(\"Company Attrition by Job Function\")\n",
    "plt.show()"
   ]
  },
  {
   "cell_type": "markdown",
   "id": "4883b7fb",
   "metadata": {},
   "source": [
    "##### Age"
   ]
  },
  {
   "cell_type": "code",
   "execution_count": 13,
   "id": "3b82fa13",
   "metadata": {},
   "outputs": [
    {
     "name": "stdout",
     "output_type": "stream",
     "text": [
      "Terminated employees: average age = 33.6 and standard deviation = 9.7\n",
      "Active employees: average age = 37.6 and standard deviation = 8.9\n"
     ]
    }
   ],
   "source": [
    "(avg, sd) = norm.fit(ibm_df.loc[ibm_df['Attrition'] == 'Yes', 'Age'])\n",
    "print('Terminated employees: average age = {:.1f} and standard deviation = {:.1f}'.format(avg, sd))\n",
    "\n",
    "(avg, sd) = norm.fit(ibm_df.loc[ibm_df['Attrition'] == 'No', 'Age'])\n",
    "print('Active employees: average age = {:.1f} and standard deviation = {:.1f}'.format(\n",
    "    avg, sd))"
   ]
  },
  {
   "cell_type": "code",
   "execution_count": 9,
   "id": "c74366e6",
   "metadata": {},
   "outputs": [
    {
     "data": {
      "application/vnd.plotly.v1+json": {
       "config": {
        "plotlyServerURL": "https://plot.ly"
       },
       "data": [
        {
         "legendgroup": "Active Employees",
         "marker": {
          "color": "rgb(31, 119, 180)"
         },
         "mode": "lines",
         "name": "Active Employees",
         "showlegend": true,
         "type": "scatter",
         "x": [
          18,
          18.084,
          18.168,
          18.252,
          18.336,
          18.42,
          18.504,
          18.588,
          18.672,
          18.756,
          18.84,
          18.924,
          19.008,
          19.092,
          19.176,
          19.26,
          19.344,
          19.428,
          19.512,
          19.596,
          19.68,
          19.764,
          19.848,
          19.932,
          20.016,
          20.1,
          20.184,
          20.268,
          20.352,
          20.436,
          20.52,
          20.604,
          20.688,
          20.772,
          20.856,
          20.94,
          21.024,
          21.108,
          21.192,
          21.276,
          21.36,
          21.444,
          21.528,
          21.612000000000002,
          21.696,
          21.78,
          21.864,
          21.948,
          22.032,
          22.116,
          22.2,
          22.284,
          22.368000000000002,
          22.451999999999998,
          22.536,
          22.62,
          22.704,
          22.788,
          22.872,
          22.956,
          23.04,
          23.124,
          23.208,
          23.292,
          23.376,
          23.46,
          23.544,
          23.628,
          23.712,
          23.796,
          23.88,
          23.964,
          24.048000000000002,
          24.131999999999998,
          24.216,
          24.3,
          24.384,
          24.468,
          24.552,
          24.636,
          24.72,
          24.804000000000002,
          24.887999999999998,
          24.972,
          25.056,
          25.14,
          25.224,
          25.308,
          25.392,
          25.476,
          25.56,
          25.644,
          25.728,
          25.812,
          25.896,
          25.98,
          26.064,
          26.148,
          26.232,
          26.316000000000003,
          26.4,
          26.484,
          26.567999999999998,
          26.652,
          26.736,
          26.82,
          26.904,
          26.988,
          27.072,
          27.156,
          27.240000000000002,
          27.323999999999998,
          27.408,
          27.492,
          27.576,
          27.66,
          27.744,
          27.828,
          27.912,
          27.996000000000002,
          28.08,
          28.164,
          28.247999999999998,
          28.332,
          28.416,
          28.5,
          28.584,
          28.668,
          28.752000000000002,
          28.836,
          28.92,
          29.003999999999998,
          29.088,
          29.172,
          29.256,
          29.34,
          29.424,
          29.508,
          29.592,
          29.676000000000002,
          29.759999999999998,
          29.844,
          29.928,
          30.012,
          30.096,
          30.18,
          30.264,
          30.348,
          30.432000000000002,
          30.516,
          30.6,
          30.683999999999997,
          30.768,
          30.852,
          30.936,
          31.02,
          31.104,
          31.188000000000002,
          31.272,
          31.356,
          31.439999999999998,
          31.524,
          31.608,
          31.692,
          31.776,
          31.86,
          31.944000000000003,
          32.028,
          32.112,
          32.196,
          32.28,
          32.364000000000004,
          32.448,
          32.532,
          32.616,
          32.7,
          32.784,
          32.868,
          32.952,
          33.036,
          33.12,
          33.204,
          33.288,
          33.372,
          33.456,
          33.54,
          33.624,
          33.708,
          33.792,
          33.876,
          33.96,
          34.044,
          34.128,
          34.212,
          34.296,
          34.379999999999995,
          34.464,
          34.548,
          34.632000000000005,
          34.716,
          34.8,
          34.884,
          34.968,
          35.052,
          35.135999999999996,
          35.22,
          35.304,
          35.388000000000005,
          35.472,
          35.556,
          35.64,
          35.724000000000004,
          35.808,
          35.891999999999996,
          35.976,
          36.06,
          36.144,
          36.228,
          36.312,
          36.396,
          36.480000000000004,
          36.564,
          36.647999999999996,
          36.732,
          36.816,
          36.9,
          36.984,
          37.068,
          37.152,
          37.236000000000004,
          37.32,
          37.403999999999996,
          37.488,
          37.572,
          37.656,
          37.739999999999995,
          37.824,
          37.908,
          37.992000000000004,
          38.076,
          38.16,
          38.244,
          38.328,
          38.412,
          38.495999999999995,
          38.58,
          38.664,
          38.748000000000005,
          38.832,
          38.916,
          39,
          39.084,
          39.168,
          39.251999999999995,
          39.336,
          39.42,
          39.504000000000005,
          39.588,
          39.672,
          39.756,
          39.84,
          39.924,
          40.007999999999996,
          40.092,
          40.176,
          40.260000000000005,
          40.344,
          40.428,
          40.512,
          40.596000000000004,
          40.68,
          40.763999999999996,
          40.848,
          40.932,
          41.016,
          41.1,
          41.184,
          41.268,
          41.352000000000004,
          41.436,
          41.519999999999996,
          41.604,
          41.688,
          41.772,
          41.856,
          41.94,
          42.024,
          42.108000000000004,
          42.192,
          42.275999999999996,
          42.36,
          42.444,
          42.528,
          42.611999999999995,
          42.696,
          42.78,
          42.864000000000004,
          42.948,
          43.032,
          43.116,
          43.2,
          43.284,
          43.367999999999995,
          43.452,
          43.536,
          43.620000000000005,
          43.704,
          43.788,
          43.872,
          43.956,
          44.04,
          44.123999999999995,
          44.208,
          44.292,
          44.376000000000005,
          44.46,
          44.544,
          44.628,
          44.712,
          44.796,
          44.879999999999995,
          44.964,
          45.048,
          45.132000000000005,
          45.216,
          45.3,
          45.384,
          45.468,
          45.552,
          45.635999999999996,
          45.72,
          45.804,
          45.888000000000005,
          45.972,
          46.056,
          46.14,
          46.224000000000004,
          46.308,
          46.391999999999996,
          46.476,
          46.56,
          46.644,
          46.728,
          46.812,
          46.896,
          46.980000000000004,
          47.064,
          47.147999999999996,
          47.232,
          47.316,
          47.4,
          47.484,
          47.568,
          47.652,
          47.736000000000004,
          47.82,
          47.903999999999996,
          47.988,
          48.072,
          48.156,
          48.239999999999995,
          48.324,
          48.408,
          48.492000000000004,
          48.576,
          48.66,
          48.744,
          48.828,
          48.912,
          48.995999999999995,
          49.08,
          49.164,
          49.248000000000005,
          49.332,
          49.416,
          49.5,
          49.584,
          49.668,
          49.751999999999995,
          49.836,
          49.92,
          50.004,
          50.088,
          50.172,
          50.256,
          50.34,
          50.424,
          50.508,
          50.592,
          50.676,
          50.76,
          50.844,
          50.928,
          51.012,
          51.096,
          51.18,
          51.264,
          51.348,
          51.432,
          51.516,
          51.6,
          51.684,
          51.768,
          51.852,
          51.936,
          52.02,
          52.104,
          52.188,
          52.272,
          52.356,
          52.44,
          52.524,
          52.608,
          52.692,
          52.776,
          52.86,
          52.944,
          53.028,
          53.112,
          53.196,
          53.28,
          53.364,
          53.448,
          53.532,
          53.616,
          53.7,
          53.784,
          53.868,
          53.952,
          54.036,
          54.12,
          54.204,
          54.288,
          54.372,
          54.456,
          54.54,
          54.624,
          54.708,
          54.792,
          54.876,
          54.96,
          55.044,
          55.128,
          55.212,
          55.296,
          55.38,
          55.464,
          55.548,
          55.632,
          55.716,
          55.8,
          55.884,
          55.968,
          56.052,
          56.136,
          56.22,
          56.304,
          56.388,
          56.472,
          56.556,
          56.64,
          56.724,
          56.808,
          56.892,
          56.976,
          57.06,
          57.144,
          57.228,
          57.312,
          57.396,
          57.48,
          57.564,
          57.648,
          57.732,
          57.816,
          57.9,
          57.984,
          58.068,
          58.152,
          58.236,
          58.32,
          58.404,
          58.488,
          58.572,
          58.656,
          58.74,
          58.824,
          58.908,
          58.992,
          59.076,
          59.16,
          59.244,
          59.328,
          59.412,
          59.496,
          59.58,
          59.664,
          59.748,
          59.832,
          59.916
         ],
         "xaxis": "x",
         "y": [
          0.002360849677535472,
          0.0024480264867824454,
          0.002536990830597226,
          0.0026277521120393016,
          0.0027203214223296517,
          0.0028147116348446392,
          0.0029109374876033927,
          0.003009015654279641,
          0.0031089648039148445,
          0.0032108056496429594,
          0.003314560986857621,
          0.003420255721357848,
          0.0035279168880947604,
          0.0036375736612112145,
          0.0037492573561132654,
          0.003863001424340915,
          0.003978841442011095,
          0.004096815092591879,
          0.0042169621447313965,
          0.004339324425810845,
          0.00446394579181809,
          0.004590872094049073,
          0.00472015114304088,
          0.0048518326700235925,
          0.0049859682860520045,
          0.005122611438846015,
          0.005261817367228679,
          0.005403643052912823,
          0.005548147169248647,
          0.005695390026408208,
          0.005845433512358536,
          0.005998341028851853,
          0.006154177421559526,
          0.006313008903379849,
          0.006474902969875715,
          0.006639928305738344,
          0.006808154681135035,
          0.006979652836779918,
          0.007154494356569909,
          0.007332751526654743,
          0.007514497179855845,
          0.007699804524423198,
          0.007888746956209393,
          0.008081397853456913,
          0.008277830353532264,
          0.008478117111093968,
          0.008682330037360958,
          0.008890540020336887,
          0.009102816626056057,
          0.009319227781138105,
          0.00953983943717241,
          0.009764715217693476,
          0.00999391604876101,
          0.010227499774409291,
          0.010465520758485376,
          0.010708029474649407,
          0.01095507208655955,
          0.011206690020500816,
          0.01146291953295354,
          0.01172379127580757,
          0.011989329862129668,
          0.01225955343556882,
          0.012534473246640556,
          0.012814093239256015,
          0.013098409650961537,
          0.013387410630420768,
          0.013681075875697888,
          0.013979376296898983,
          0.014282273706677362,
          0.014589720542023395,
          0.014901659620634592,
          0.015218023934982028,
          0.015538736486986561,
          0.015863710165955874,
          0.016192847672145284,
          0.016526041487968827,
          0.016863173898523192,
          0.017204117062688325,
          0.01754873313564248,
          0.017896874443184437,
          0.018248383707785396,
          0.018603094325828278,
          0.01896083069500256,
          0.019321408590355225,
          0.019684635587028234,
          0.02005031152726724,
          0.020418229028861163,
          0.020788174031783357,
          0.021159926379451317,
          0.021533260430716374,
          0.021907945698439804,
          0.022283747510311654,
          0.022660427687431935,
          0.023037745236099475,
          0.023415457048243455,
          0.023793318605991504,
          0.0241710846859938,
          0.024548510059304775,
          0.024925350182883863,
          0.025301361879067397,
          0.025676303999733256,
          0.026049938072272183,
          0.026422028924914753,
          0.026792345289426825,
          0.02716066037966149,
          0.02752675244494141,
          0.027890405297724175,
          0.028251408815461614,
          0.028609559417008865,
          0.02896466051432819,
          0.02931652294059334,
          0.02966496535608235,
          0.030009814633492362,
          0.030350906224448478,
          0.030688084509076053,
          0.03102120313048643,
          0.03135012531595964,
          0.031674724186415745,
          0.03199488305552933,
          0.032310495719502966,
          0.032621466738106016,
          0.032927711707116766,
          0.033229157521767715,
          0.03352574263021872,
          0.03381741727546538,
          0.034104143723454695,
          0.03438589647452756,
          0.034662662454684266,
          0.03493444118253499,
          0.035201244907234704,
          0.0354630987121735,
          0.03572004057873525,
          0.035972121404077045,
          0.03621940496659803,
          0.036461967832608064,
          0.03669989919766359,
          0.03693330065611408,
          0.037162285892631604,
          0.03738698028984407,
          0.03760752044670068,
          0.03782405360283189,
          0.03803673696495048,
          0.03824573693224617,
          0.03845122821876486,
          0.038653392871914875,
          0.038852419187488045,
          0.039048500522923794,
          0.03924183401195627,
          0.03943261918522654,
          0.03962105650294187,
          0.03980734580715758,
          0.03999168470273012,
          0.04017426687744084,
          0.040355280373175914,
          0.0405349058213404,
          0.04071331465688782,
          0.04089066732641012,
          0.04106711150664828,
          0.041242780350545835,
          0.041417790778523124,
          0.041592241833025935,
          0.041766213114561156,
          0.04193976331736238,
          0.042112928882535205,
          0.0422857227860251,
          0.04245813347796593,
          0.04263012398901608,
          0.04280163121805659,
          0.04297256541421706,
          0.043142809864574236,
          0.043312220797058355,
          0.04348062750612737,
          0.04364783270666956,
          0.04381361311933193,
          0.0439777202881609,
          0.04413988162904335,
          0.04429980170498311,
          0.04445716372182857,
          0.044611631235634226,
          0.04476285006048215,
          0.044910450363316486,
          0.04505404893017164,
          0.04519325158618223,
          0.045327655749895036,
          0.04545685310077181,
          0.045580432337355335,
          0.045697982002364315,
          0.04580909335007482,
          0.045913363230687954,
          0.046010396965988985,
          0.04609981119054301,
          0.04618123663284712,
          0.04625432081136188,
          0.04631873062110349,
          0.046374154787532575,
          0.046420306165761496,
          0.046456923864662714,
          0.046483775177215574,
          0.04650065730040985,
          0.04650739883015787,
          0.04650386101896917,
          0.0464899387865524,
          0.04646556147600143,
          0.046430693350796935,
          0.04638533383042258,
          0.0463295174649789,
          0.04626331365172302,
          0.04618682609892361,
          0.04610019204480236,
          0.046003581241590256,
          0.045897194716820494,
          0.04578126332592347,
          0.04565604611192608,
          0.045521828489600444,
          0.04537892027272344,
          0.04522765356419267,
          0.04506838052960075,
          0.04490147107547882,
          0.04472731045379137,
          0.04454629681439589,
          0.04435883872709405,
          0.04416535269456343,
          0.04396626067695463,
          0.04376198764818447,
          0.04355295920307279,
          0.04333959923338366,
          0.04312232768962202,
          0.0429015584440995,
          0.04267769726932941,
          0.04245113994429324,
          0.04222227049952054,
          0.041991459610296704,
          0.041759063145656444,
          0.04152542087916018,
          0.04129085536580857,
          0.04105567098783478,
          0.04082015317055162,
          0.04058456776792195,
          0.040349160616082284,
          0.040114157251708554,
          0.039879762790838234,
          0.03964616196261086,
          0.039413519291313724,
          0.039181979419181806,
          0.038951667561533954,
          0.03872269008510275,
          0.03849513519977431,
          0.038269073753434676,
          0.038044560119195145,
          0.03782163316394537,
          0.03760031728695872,
          0.037380623517138674,
          0.03716255065744887,
          0.036946086465098386,
          0.03673120885617062,
          0.036517887123559765,
          0.03630608315733575,
          0.03609575265696206,
          0.035886846325171494,
          0.03567931103372257,
          0.0354730909517416,
          0.03526812862787878,
          0.0350643660180747,
          0.034861745451355716,
          0.03466021052672136,
          0.03445970693488078,
          0.03426018319933026,
          0.03406159133201803,
          0.033863887399636305,
          0.0336670319974094,
          0.0334709906280857,
          0.033275733984714145,
          0.03308123813668033,
          0.03288748461936604,
          0.03269446042872469,
          0.03250215792296051,
          0.032310574634427484,
          0.032119712995752704,
          0.03192957998507491,
          0.03174018669614729,
          0.03155154783986729,
          0.03136368118457629,
          0.031176606943191125,
          0.03099034711588224,
          0.030804924797599314,
          0.03062036346023888,
          0.030436686219652943,
          0.03025391509799553,
          0.030072070292104475,
          0.029891169458671,
          0.029711227026917517,
          0.029532253549304395,
          0.029354255100490514,
          0.02917723273431647,
          0.02900118200800267,
          0.02882609258204391,
          0.028651947903448695,
          0.028478724979009506,
          0.028306394244220396,
          0.02813491953229068,
          0.027964258146442236,
          0.027794361037339566,
          0.02762517308610611,
          0.02745663349195336,
          0.027288676261980976,
          0.02712123079924552,
          0.026954222583762528,
          0.026787573939689825,
          0.02662120488060372,
          0.026455034023515237,
          0.02628897956111445,
          0.026122960280685836,
          0.025956896617243208,
          0.025790711727684098,
          0.02562433257218159,
          0.025457690988651825,
          0.025290724745914116,
          0.02512337856117089,
          0.024955605067623534,
          0.024787365718441038,
          0.024618631613903194,
          0.024449384239328714,
          0.024279616102384643,
          0.024109331259531075,
          0.02393854572267061,
          0.023767287738526887,
          0.023595597934873303,
          0.023423529329407288,
          0.0232511471988296,
          0.023078528807518997,
          0.022905762997015387,
          0.022732949639393176,
          0.02256019895940531,
          0.022387630732056414,
          0.02221537336394772,
          0.022043562868312723,
          0.021872341745128244,
          0.021701857778975712,
          0.021532262768481705,
          0.02136371120210079,
          0.021196358895763382,
          0.021030361608448872,
          0.02086587365205812,
          0.02070304651206309,
          0.020542027495272806,
          0.020382958420703208,
          0.020225974368968055,
          0.02007120250481821,
          0.0199187609864823,
          0.019768757974291073,
          0.019621290749735756,
          0.019476444954635304,
          0.01933429395847448,
          0.019194898360272647,
          0.019058305629556106,
          0.01892454988916549,
          0.01879365184077166,
          0.01866561883210609,
          0.018540445063076526,
          0.01841811192615769,
          0.018298588474737143,
          0.018181832011491737,
          0.018067788787388937,
          0.017956394800563314,
          0.017847576683136916,
          0.017741252663048542,
          0.017637333587134704,
          0.01753572399108145,
          0.017436323201451224,
          0.0173390264547728,
          0.017243726018680197,
          0.017150312300291914,
          0.01705867492741993,
          0.016968703788799114,
          0.01688029002030429,
          0.01679332692507365,
          0.016707710816560677,
          0.016623341774776142,
          0.016540124307346714,
          0.0164579679084737,
          0.016376787510412313,
          0.01629650382368665,
          0.016217043563877275,
          0.01613833956445894,
          0.01606033077678362,
          0.015982962159898195,
          0.015906184464414216,
          0.01582995391611056,
          0.015754231806306467,
          0.015678983997296555,
          0.015604180352262456,
          0.015529794100054737,
          0.015455801146069889,
          0.015382179341112339,
          0.015308907720628782,
          0.01523596572702437,
          0.01516333242791766,
          0.015090985743161058,
          0.015018901693248201,
          0.014947053681356041,
          0.014875411820734227,
          0.014803942318458902,
          0.014732606925735515,
          0.014661362463968736,
          0.014590160434727578,
          0.014518946720552626,
          0.014447661382269546,
          0.014376238557136916,
          0.01430460646075061,
          0.014232687494205077,
          0.014160398456559883,
          0.01408765086121917,
          0.014014351353411664,
          0.013940402224573043,
          0.01386570201810831,
          0.013790146219759108,
          0.01371362802462883,
          0.013636039171864575,
          0.013557270837035194,
          0.013477214571431915,
          0.013395763276823671,
          0.013312812203666497,
          0.013228259960366685,
          0.013142009520973016,
          0.013053969218587995,
          0.012964053711881458,
          0.012872184912323394,
          0.012778292860158141,
          0.01268231653768933,
          0.012584204609138734,
          0.012483916077172998,
          0.012381420847150309,
          0.012276700191212925,
          0.012169747105521055,
          0.012060566555193606,
          0.0119491756028496,
          0.011835603418042876,
          0.011719891166309495,
          0.011602091778002957,
          0.011482269598551495,
          0.011360499923211498,
          0.011236868420806373,
          0.011111470452298901,
          0.010984410291339518,
          0.01085580025514423,
          0.010725759755165354,
          0.01059441427801549,
          0.01046189430797462,
          0.010328334203144236,
          0.010193871037890899,
          0.010058643424654215,
          0.009922790328455746,
          0.009786449887545805,
          0.009649758253556823,
          0.00951284846429688,
          0.009375849361915703,
          0.009238884568618233,
          0.009102071531388575,
          0.008965520646331627,
          0.008829334472254423,
          0.00869360704200275,
          0.008558423278857417,
          0.008423858523996866,
          0.008289978179660722,
          0.008156837471225416,
          0.008024481329945628,
          0.007892944396640022,
          0.007762251145132152,
          0.007632416122811326,
          0.0075034443042759505,
          0.007375331552680389,
          0.007248065182142986,
          0.007121624613404994,
          0.006995982113870248,
          0.006871103612220591,
          0.006746949576996926,
          0.006623475947879633,
          0.006500635107889879,
          0.006378376884383478,
          0.006256649566511423,
          0.006135400926787153,
          0.006014579234522535,
          0.005894134249168639,
          0.0057740181820213924,
          0.005654186615315288,
          0.005534599368419034,
          0.005415221301660906,
          0.0052960230492255225,
          0.0051769816735740826,
          0.005058081234922302,
          0.004939313270456233,
          0.004820677179153411,
          0.004702180509291703,
          0.004583839146953654,
          0.004465677405052532,
          0.004347728013602811,
          0.004230032013115348,
          0.0041126385541047925,
          0.003995604606736398,
          0.003878994585602559
         ],
         "yaxis": "y"
        },
        {
         "legendgroup": "Ex-Employees",
         "marker": {
          "color": "rgb(255, 127, 14)"
         },
         "mode": "lines",
         "name": "Ex-Employees",
         "showlegend": true,
         "type": "scatter",
         "x": [
          18,
          18.08,
          18.16,
          18.24,
          18.32,
          18.4,
          18.48,
          18.56,
          18.64,
          18.72,
          18.8,
          18.88,
          18.96,
          19.04,
          19.12,
          19.2,
          19.28,
          19.36,
          19.44,
          19.52,
          19.6,
          19.68,
          19.76,
          19.84,
          19.92,
          20,
          20.08,
          20.16,
          20.240000000000002,
          20.32,
          20.4,
          20.48,
          20.56,
          20.64,
          20.72,
          20.8,
          20.88,
          20.96,
          21.04,
          21.12,
          21.2,
          21.28,
          21.36,
          21.44,
          21.52,
          21.6,
          21.68,
          21.759999999999998,
          21.84,
          21.92,
          22,
          22.08,
          22.16,
          22.240000000000002,
          22.32,
          22.4,
          22.48,
          22.56,
          22.64,
          22.72,
          22.8,
          22.88,
          22.96,
          23.04,
          23.12,
          23.2,
          23.28,
          23.36,
          23.44,
          23.52,
          23.6,
          23.68,
          23.759999999999998,
          23.84,
          23.92,
          24,
          24.08,
          24.16,
          24.240000000000002,
          24.32,
          24.4,
          24.48,
          24.56,
          24.64,
          24.72,
          24.8,
          24.88,
          24.96,
          25.04,
          25.12,
          25.2,
          25.28,
          25.36,
          25.44,
          25.52,
          25.6,
          25.68,
          25.759999999999998,
          25.84,
          25.92,
          26,
          26.08,
          26.16,
          26.240000000000002,
          26.32,
          26.4,
          26.48,
          26.560000000000002,
          26.64,
          26.72,
          26.8,
          26.880000000000003,
          26.96,
          27.04,
          27.119999999999997,
          27.2,
          27.28,
          27.36,
          27.439999999999998,
          27.52,
          27.6,
          27.68,
          27.759999999999998,
          27.84,
          27.92,
          28,
          28.08,
          28.16,
          28.240000000000002,
          28.32,
          28.4,
          28.48,
          28.560000000000002,
          28.64,
          28.72,
          28.8,
          28.880000000000003,
          28.96,
          29.04,
          29.119999999999997,
          29.2,
          29.28,
          29.36,
          29.439999999999998,
          29.52,
          29.6,
          29.68,
          29.759999999999998,
          29.84,
          29.92,
          30,
          30.08,
          30.16,
          30.240000000000002,
          30.32,
          30.4,
          30.48,
          30.560000000000002,
          30.64,
          30.72,
          30.8,
          30.880000000000003,
          30.96,
          31.04,
          31.119999999999997,
          31.2,
          31.28,
          31.36,
          31.439999999999998,
          31.52,
          31.6,
          31.68,
          31.759999999999998,
          31.84,
          31.92,
          32,
          32.08,
          32.16,
          32.24,
          32.32,
          32.4,
          32.480000000000004,
          32.56,
          32.64,
          32.72,
          32.8,
          32.88,
          32.96,
          33.04,
          33.12,
          33.2,
          33.28,
          33.36,
          33.44,
          33.519999999999996,
          33.6,
          33.68,
          33.76,
          33.84,
          33.92,
          34,
          34.08,
          34.16,
          34.239999999999995,
          34.32,
          34.4,
          34.480000000000004,
          34.56,
          34.64,
          34.72,
          34.8,
          34.879999999999995,
          34.96,
          35.04,
          35.120000000000005,
          35.2,
          35.28,
          35.36,
          35.44,
          35.519999999999996,
          35.6,
          35.68,
          35.760000000000005,
          35.84,
          35.92,
          36,
          36.08,
          36.16,
          36.239999999999995,
          36.32,
          36.4,
          36.480000000000004,
          36.56,
          36.64,
          36.72,
          36.8,
          36.879999999999995,
          36.96,
          37.04,
          37.120000000000005,
          37.2,
          37.28,
          37.36,
          37.44,
          37.519999999999996,
          37.6,
          37.68,
          37.760000000000005,
          37.84,
          37.92,
          38,
          38.08,
          38.16,
          38.239999999999995,
          38.32,
          38.4,
          38.480000000000004,
          38.56,
          38.64,
          38.72,
          38.8,
          38.879999999999995,
          38.96,
          39.04,
          39.120000000000005,
          39.2,
          39.28,
          39.36,
          39.44,
          39.519999999999996,
          39.6,
          39.68,
          39.760000000000005,
          39.84,
          39.92,
          40,
          40.08,
          40.16,
          40.239999999999995,
          40.32,
          40.4,
          40.480000000000004,
          40.56,
          40.64,
          40.72,
          40.8,
          40.879999999999995,
          40.96,
          41.04,
          41.120000000000005,
          41.2,
          41.28,
          41.36,
          41.44,
          41.519999999999996,
          41.6,
          41.68,
          41.760000000000005,
          41.84,
          41.92,
          42,
          42.08,
          42.16,
          42.239999999999995,
          42.32,
          42.4,
          42.480000000000004,
          42.56,
          42.64,
          42.72,
          42.8,
          42.879999999999995,
          42.96,
          43.04,
          43.120000000000005,
          43.2,
          43.28,
          43.36,
          43.44,
          43.519999999999996,
          43.6,
          43.68,
          43.760000000000005,
          43.84,
          43.92,
          44,
          44.08,
          44.16,
          44.239999999999995,
          44.32,
          44.4,
          44.480000000000004,
          44.56,
          44.64,
          44.72,
          44.8,
          44.879999999999995,
          44.96,
          45.04,
          45.120000000000005,
          45.2,
          45.28,
          45.36,
          45.44,
          45.519999999999996,
          45.6,
          45.68,
          45.760000000000005,
          45.84,
          45.92,
          46,
          46.08,
          46.16,
          46.239999999999995,
          46.32,
          46.4,
          46.480000000000004,
          46.56,
          46.64,
          46.72,
          46.8,
          46.879999999999995,
          46.96,
          47.04,
          47.120000000000005,
          47.2,
          47.28,
          47.36,
          47.44,
          47.519999999999996,
          47.6,
          47.68,
          47.760000000000005,
          47.84,
          47.92,
          48,
          48.08,
          48.16,
          48.239999999999995,
          48.32,
          48.4,
          48.480000000000004,
          48.56,
          48.64,
          48.72,
          48.8,
          48.879999999999995,
          48.96,
          49.04,
          49.120000000000005,
          49.2,
          49.28,
          49.36,
          49.44,
          49.519999999999996,
          49.6,
          49.68,
          49.760000000000005,
          49.84,
          49.92,
          50,
          50.08,
          50.16,
          50.24,
          50.32,
          50.4,
          50.48,
          50.56,
          50.64,
          50.72,
          50.8,
          50.88,
          50.96,
          51.04,
          51.12,
          51.2,
          51.28,
          51.36,
          51.44,
          51.52,
          51.6,
          51.68,
          51.76,
          51.84,
          51.92,
          52,
          52.08,
          52.16,
          52.24,
          52.32,
          52.4,
          52.48,
          52.56,
          52.64,
          52.72,
          52.8,
          52.88,
          52.96,
          53.04,
          53.12,
          53.2,
          53.28,
          53.36,
          53.44,
          53.52,
          53.6,
          53.68,
          53.76,
          53.84,
          53.92,
          54,
          54.08,
          54.16,
          54.24,
          54.32,
          54.4,
          54.48,
          54.56,
          54.64,
          54.72,
          54.8,
          54.88,
          54.96,
          55.04,
          55.12,
          55.2,
          55.28,
          55.36,
          55.44,
          55.52,
          55.6,
          55.68,
          55.76,
          55.84,
          55.92,
          56,
          56.08,
          56.16,
          56.24,
          56.32,
          56.4,
          56.48,
          56.56,
          56.64,
          56.72,
          56.8,
          56.88,
          56.96,
          57.04,
          57.12,
          57.2,
          57.28,
          57.36,
          57.44,
          57.52,
          57.6,
          57.68,
          57.76,
          57.84,
          57.92
         ],
         "xaxis": "x",
         "y": [
          0.01288740262295032,
          0.01313087588715246,
          0.013374403632221765,
          0.013617887513449802,
          0.013861232278217799,
          0.014104346026472552,
          0.014347140462637962,
          0.014589531138054215,
          0.014831437683067385,
          0.015072784027925158,
          0.015313498611671184,
          0.01555351457827068,
          0.01579276995924415,
          0.016031207842131617,
          0.016268776524159926,
          0.016505429650536467,
          0.016741126336848027,
          0.016975831275097726,
          0.017209514822973306,
          0.017442153075996066,
          0.01767372792226347,
          0.01790422707955705,
          0.018133644114650967,
          0.01836197844471736,
          0.018589235320787854,
          0.018815425793291582,
          0.01904056665975224,
          0.019264680394786,
          0.01948779506260275,
          0.019709944212269768,
          0.019931166756054178,
          0.0201515068312146,
          0.020371013645664925,
          0.02058974130798298,
          0.02080774864228518,
          0.02102509898853212,
          0.021241859988873946,
          0.021458103360682025,
          0.02167390465695105,
          0.021889343014787864,
          0.022104500892734955,
          0.022319463797700872,
          0.022534320002296295,
          0.022749160253392246,
          0.022964077472735992,
          0.023179166450472133,
          0.023394523532428532,
          0.023610246302033646,
          0.023826433257735802,
          0.024043183486796633,
          0.02426059633633049,
          0.024478771082456253,
          0.02469780659842106,
          0.024917801022548272,
          0.02513885142684774,
          0.025361053487115013,
          0.025584501155329002,
          0.025809286335141072,
          0.026035498561228373,
          0.026263224683264603,
          0.026492548555237534,
          0.026723550730822245,
          0.026956308165491164,
          0.027190893926020473,
          0.027427376908022418,
          0.027665821562112048,
          0.027906287629283502,
          0.028148829886049467,
          0.028393497899866504,
          0.028640335795342173,
          0.02888938203169312,
          0.02914066919189428,
          0.029394223783933412,
          0.02965006605455685,
          0.029908209815865224,
          0.030168662285092684,
          0.030431423937874933,
          0.030696488375285557,
          0.030963842204895887,
          0.031233464936085257,
          0.031505328889806165,
          0.03177939912298141,
          0.03205563336768736,
          0.03233398198525127,
          0.03261438793536766,
          0.032896786760313115,
          0.03318110658431509,
          0.033467268128106964,
          0.03375518473867503,
          0.03404476243418081,
          0.03433589996401739,
          0.034628488883931594,
          0.034922413646122225,
          0.03521755170419681,
          0.035513773632844824,
          0.03581094326206049,
          0.0361089178257205,
          0.03640754812429784,
          0.03670667870146458,
          0.037006148034310515,
          0.037305788736878225,
          0.037605427776686094,
          0.03790488670388538,
          0.03820398189266895,
          0.038502524794521945,
          0.03880032220287738,
          0.03909717652871289,
          0.03939288608659737,
          0.039687245390669416,
          0.03998004546000427,
          0.04027107413279964,
          0.040560116388786226,
          0.0408469546792455,
          0.04113136926399269,
          0.041413138554662776,
          0.04169203946361665,
          0.04196784775776293,
          0.04224033841657793,
          0.0425092859935847,
          0.04277446498054309,
          0.04303565017358623,
          0.04329261704053186,
          0.043545142088586036,
          0.04379300323165347,
          0.044035980156461985,
          0.04427385468671123,
          0.04450641114445248,
          0.04473343670791464,
          0.044954721764993835,
          0.045170060261635565,
          0.04537925004434773,
          0.04558209319609822,
          0.04577839636486696,
          0.0459679710841387,
          0.046150634084649075,
          0.04632620759671417,
          0.04649451964250602,
          0.046655404317658015,
          0.04680870206161997,
          0.0469542599162117,
          0.04709193177185851,
          0.047221578601026555,
          0.04734306867841606,
          0.04745627778750406,
          0.04756108941307237,
          0.04765739491939334,
          0.047745093713789474,
          0.04782409339532271,
          0.04789430988841304,
          0.047955667561227225,
          0.04800809932872117,
          0.04805154674025998,
          0.04808596005178473,
          0.0481112982825313,
          0.0481275292563513,
          0.048134629627720124,
          0.04813258489255973,
          0.04812138938403564,
          0.04810104625352795,
          0.048071567437005476,
          0.04803297360706774,
          0.04798529411094763,
          0.04792856689479748,
          0.04786283841460601,
          0.047788163534120465,
          0.047704605410168,
          0.0476122353657922,
          0.04751113275163918,
          0.04740138479604096,
          0.047283086444260686,
          0.047156340187375106,
          0.04702125588127662,
          0.04687795055628989,
          0.046726548217898074,
          0.04656717963908228,
          0.046399982144775934,
          0.04622509938893847,
          0.04604268112475115,
          0.045852882968432894,
          0.04565586615717271,
          0.04545179730166773,
          0.04524084813375069,
          0.045023195249582176,
          0.044799019848875375,
          0.04456850747061183,
          0.044331847725697066,
          0.04408923402699475,
          0.04384086331716906,
          0.04358693579475188,
          0.043327654638844255,
          0.04306322573284803,
          0.04279385738761541,
          0.04251976006439367,
          0.04224114609793141,
          0.041958229420105235,
          0.041671225284416316,
          0.04138034999169739,
          0.04108582061736374,
          0.0407878547405358,
          0.04048667017535146,
          0.04018248470478459,
          0.0398755158172775,
          0.039565980446493114,
          0.03925409471448619,
          0.03894007367859341,
          0.03862413108233422,
          0.038306479110616104,
          0.0379873281495339,
          0.0376668865510503,
          0.0373453604028452,
          0.037022953303617226,
          0.03669986614412182,
          0.036376296894225835,
          0.03605244039625961,
          0.035728488164941875,
          0.03540462819415373,
          0.03508104477083102,
          0.034757918296243785,
          0.03443542511492409,
          0.03411373735149983,
          0.03379302275568467,
          0.033473444555667434,
          0.03315516132013412,
          0.03283832682914862,
          0.03252308995410356,
          0.03220959454694394,
          0.03189797933885029,
          0.03158837784855277,
          0.031280918300433995,
          0.030975723552556803,
          0.030672911034737554,
          0.030372592696762617,
          0.03007487496682662,
          0.02977985872024424,
          0.0294876392584691,
          0.029198306298421614,
          0.028911943972108237,
          0.028628630836481914,
          0.028348439893470724,
          0.028071438620070492,
          0.02779768900836989,
          0.027527247615348114,
          0.027260165622254515,
          0.026996488903353155,
          0.026736258103784404,
          0.026479508726268062,
          0.026226271226345313,
          0.025976571115828854,
          0.0257304290741046,
          0.025487861066904354,
          0.02524887847214252,
          0.02501348821239131,
          0.024781692893543067,
          0.02455349094919505,
          0.02432887679026884,
          0.02410784095936625,
          0.02389037028934663,
          0.023676448065602367,
          0.023466054191498192,
          0.023259165356435997,
          0.023055755206000443,
          0.02285579451364182,
          0.022659251353350944,
          0.022466091272787078,
          0.022276277466323765,
          0.022089770947486875,
          0.021906530720270913,
          0.02172651394883027,
          0.021549676125061576,
          0.02137597123360638,
          0.021205351913828076,
          0.021037769618333813,
          0.02087317476764038,
          0.0207115169006041,
          0.02055274482026443,
          0.02039680673477752,
          0.020243650393145542,
          0.02009322321547696,
          0.019945472417545893,
          0.019800345129446513,
          0.019657788508174418,
          0.019517749843994694,
          0.019380176660491927,
          0.019245016808225653,
          0.019112218551948935,
          0.01898173065137569,
          0.018853502435513907,
          0.018727483870609317,
          0.018603625621772785,
          0.018481879108389568,
          0.01836219655343454,
          0.01824453102683954,
          0.018128836483081955,
          0.01801506779318121,
          0.01790318077130944,
          0.017793132196237883,
          0.017684879827853436,
          0.017578382418992972,
          0.017473599722851684,
          0.017370492496229847,
          0.017269022498887607,
          0.017169152489281747,
          0.017070846216958473,
          0.016974068411877694,
          0.01687878477094118,
          0.01678496194199285,
          0.01669256750555478,
          0.016601569954555136,
          0.016511938672294616,
          0.016423643908891155,
          0.016336656756428286,
          0.016250949123023595,
          0.016166493706019164,
          0.016083263964484056,
          0.016001234091203426,
          0.0159203789843164,
          0.01584067421874901,
          0.015762096017574393,
          0.015684621223418772,
          0.015608227270016395,
          0.015532892154003832,
          0.015458594407029708,
          0.01538531306824457,
          0.01531302765722224,
          0.015241718147353686,
          0.01517136493974408,
          0.015101948837634285,
          0.015033451021359605,
          0.014965853023852579,
          0.014899136706688458,
          0.014833284236669983,
          0.014768278062941806,
          0.01470410089462383,
          0.014640735678951316,
          0.014578165579908282,
          0.014516373957342555,
          0.01445534434655258,
          0.014395060438337173,
          0.014335506059505846,
          0.01427666515384827,
          0.014218521763569547,
          0.014161060011201246,
          0.014104264082005389,
          0.014048118206894689,
          0.013992606645898539,
          0.013937713672211841,
          0.013883423556869485,
          0.013829720554096779,
          0.013776588887391613,
          0.013724012736401081,
          0.013671976224659757,
          0.01362046340826281,
          0.013569458265550265,
          0.013518944687883365,
          0.013468906471595144,
          0.013419327311200649,
          0.013370190793951279,
          0.01332148039581851,
          0.013273179478989615,
          0.013225271290956507,
          0.013177738965273647,
          0.013130565524057367,
          0.013083733882290817,
          0.01303722685399385,
          0.012991027160305807,
          0.01294511743952228,
          0.012899480259114046,
          0.01285409812974634,
          0.012808953521303252,
          0.012764028880908836,
          0.012719306652922978,
          0.01267476930087471,
          0.012630399331281196,
          0.01258617931928478,
          0.012542091936024652,
          0.01249811997764422,
          0.012454246395819397,
          0.012410454329676907,
          0.012366727138957189,
          0.012323048438260754,
          0.012279402132203424,
          0.012235772451291512,
          0.012192143988316204,
          0.01214850173505372,
          0.012104831119048422,
          0.012061118040245426,
          0.012017348907232956,
          0.011973510672846209,
          0.011929590868881483,
          0.011885577639664463,
          0.011841459774215982,
          0.011797226736758057,
          0.011752868695305193,
          0.011708376548089797,
          0.0116637419475756,
          0.011618957321821527,
          0.011574015892966338,
          0.011528911692616745,
          0.011483639573933856,
          0.011438195220227631,
          0.011392575149885419,
          0.011346776717478422,
          0.01130079811090919,
          0.011254638344484385,
          0.011208297247818414,
          0.011161775450497404,
          0.011115074362456956,
          0.011068196150051467,
          0.011021143707820083,
          0.01097392062597886,
          0.01092653115369677,
          0.010878980158239765,
          0.01083127308009325,
          0.010783415884201694,
          0.01073541500748886,
          0.010687277302849815,
          0.010639009979829866,
          0.010590620542230996,
          0.010542116722909618,
          0.010493506416051361,
          0.010444797607230693,
          0.010395998301581503,
          0.010347116450423563,
          0.010298159876705659,
          0.010249136199640416,
          0.010200052758918174,
          0.010150916538897922,
          0.010101734093180567,
          0.010052511469976379,
          0.010003254138681637,
          0.009953966918080644,
          0.009904653906588196,
          0.009855318414943857,
          0.009805962901763703,
          0.009756588912346166,
          0.009707197021118667,
          0.00965778677809813,
          0.009608356659723174,
          0.009558904024398757,
          0.009509425073073638,
          0.009459914815150527,
          0.009410367040004149,
          0.009360774294357799,
          0.009311127865742471,
          0.009261417772232987,
          0.009211632758627407,
          0.009161760299203524,
          0.009111786607155748,
          0.009061696650781593,
          0.009011474176454764,
          0.008961101738386709,
          0.008910560735145455,
          0.008859831452865416,
          0.008808893115047789,
          0.00875772393881759,
          0.00870630119746927,
          0.008654601289100663,
          0.008602599811102197,
          0.0085502716402382,
          0.008497591018026322,
          0.008444531641093288,
          0.00839106675615795,
          0.008337169259266872,
          0.008282811798884801,
          0.00822796688241975,
          0.008172606985743748,
          0.008116704665251766,
          0.00806023267198681,
          0.008003164067345797,
          0.007945472339870042,
          0.007887131522616504,
          0.007828116310599533,
          0.0077684021777904635,
          0.007707965493160727,
          0.007646783635257099,
          0.007584835104800983,
          0.007522099634811302,
          0.0074585582977594175,
          0.007394193609276136,
          0.0073289896279453625,
          0.0072629320507345526,
          0.007196008303631229,
          0.007128207627074819,
          0.007059521155795926,
          0.006989941992699261,
          0.006919465276452455,
          0.006848088242470969,
          0.006775810277017593,
          0.006702632964166294,
          0.006628560125410717,
          0.006553597851730634,
          0.006477754527962518,
          0.006401040849354182,
          0.00632346983021792,
          0.006245056804630764,
          0.006165819419165291,
          0.006085777617668628,
          0.006004953618142231,
          0.005923371881807921,
          0.005841059074479707
         ],
         "yaxis": "y"
        }
       ],
       "layout": {
        "barmode": "overlay",
        "hovermode": "closest",
        "legend": {
         "traceorder": "reversed"
        },
        "template": {
         "data": {
          "bar": [
           {
            "error_x": {
             "color": "#2a3f5f"
            },
            "error_y": {
             "color": "#2a3f5f"
            },
            "marker": {
             "line": {
              "color": "#E5ECF6",
              "width": 0.5
             },
             "pattern": {
              "fillmode": "overlay",
              "size": 10,
              "solidity": 0.2
             }
            },
            "type": "bar"
           }
          ],
          "barpolar": [
           {
            "marker": {
             "line": {
              "color": "#E5ECF6",
              "width": 0.5
             },
             "pattern": {
              "fillmode": "overlay",
              "size": 10,
              "solidity": 0.2
             }
            },
            "type": "barpolar"
           }
          ],
          "carpet": [
           {
            "aaxis": {
             "endlinecolor": "#2a3f5f",
             "gridcolor": "white",
             "linecolor": "white",
             "minorgridcolor": "white",
             "startlinecolor": "#2a3f5f"
            },
            "baxis": {
             "endlinecolor": "#2a3f5f",
             "gridcolor": "white",
             "linecolor": "white",
             "minorgridcolor": "white",
             "startlinecolor": "#2a3f5f"
            },
            "type": "carpet"
           }
          ],
          "choropleth": [
           {
            "colorbar": {
             "outlinewidth": 0,
             "ticks": ""
            },
            "type": "choropleth"
           }
          ],
          "contour": [
           {
            "colorbar": {
             "outlinewidth": 0,
             "ticks": ""
            },
            "colorscale": [
             [
              0,
              "#0d0887"
             ],
             [
              0.1111111111111111,
              "#46039f"
             ],
             [
              0.2222222222222222,
              "#7201a8"
             ],
             [
              0.3333333333333333,
              "#9c179e"
             ],
             [
              0.4444444444444444,
              "#bd3786"
             ],
             [
              0.5555555555555556,
              "#d8576b"
             ],
             [
              0.6666666666666666,
              "#ed7953"
             ],
             [
              0.7777777777777778,
              "#fb9f3a"
             ],
             [
              0.8888888888888888,
              "#fdca26"
             ],
             [
              1,
              "#f0f921"
             ]
            ],
            "type": "contour"
           }
          ],
          "contourcarpet": [
           {
            "colorbar": {
             "outlinewidth": 0,
             "ticks": ""
            },
            "type": "contourcarpet"
           }
          ],
          "heatmap": [
           {
            "colorbar": {
             "outlinewidth": 0,
             "ticks": ""
            },
            "colorscale": [
             [
              0,
              "#0d0887"
             ],
             [
              0.1111111111111111,
              "#46039f"
             ],
             [
              0.2222222222222222,
              "#7201a8"
             ],
             [
              0.3333333333333333,
              "#9c179e"
             ],
             [
              0.4444444444444444,
              "#bd3786"
             ],
             [
              0.5555555555555556,
              "#d8576b"
             ],
             [
              0.6666666666666666,
              "#ed7953"
             ],
             [
              0.7777777777777778,
              "#fb9f3a"
             ],
             [
              0.8888888888888888,
              "#fdca26"
             ],
             [
              1,
              "#f0f921"
             ]
            ],
            "type": "heatmap"
           }
          ],
          "heatmapgl": [
           {
            "colorbar": {
             "outlinewidth": 0,
             "ticks": ""
            },
            "colorscale": [
             [
              0,
              "#0d0887"
             ],
             [
              0.1111111111111111,
              "#46039f"
             ],
             [
              0.2222222222222222,
              "#7201a8"
             ],
             [
              0.3333333333333333,
              "#9c179e"
             ],
             [
              0.4444444444444444,
              "#bd3786"
             ],
             [
              0.5555555555555556,
              "#d8576b"
             ],
             [
              0.6666666666666666,
              "#ed7953"
             ],
             [
              0.7777777777777778,
              "#fb9f3a"
             ],
             [
              0.8888888888888888,
              "#fdca26"
             ],
             [
              1,
              "#f0f921"
             ]
            ],
            "type": "heatmapgl"
           }
          ],
          "histogram": [
           {
            "marker": {
             "pattern": {
              "fillmode": "overlay",
              "size": 10,
              "solidity": 0.2
             }
            },
            "type": "histogram"
           }
          ],
          "histogram2d": [
           {
            "colorbar": {
             "outlinewidth": 0,
             "ticks": ""
            },
            "colorscale": [
             [
              0,
              "#0d0887"
             ],
             [
              0.1111111111111111,
              "#46039f"
             ],
             [
              0.2222222222222222,
              "#7201a8"
             ],
             [
              0.3333333333333333,
              "#9c179e"
             ],
             [
              0.4444444444444444,
              "#bd3786"
             ],
             [
              0.5555555555555556,
              "#d8576b"
             ],
             [
              0.6666666666666666,
              "#ed7953"
             ],
             [
              0.7777777777777778,
              "#fb9f3a"
             ],
             [
              0.8888888888888888,
              "#fdca26"
             ],
             [
              1,
              "#f0f921"
             ]
            ],
            "type": "histogram2d"
           }
          ],
          "histogram2dcontour": [
           {
            "colorbar": {
             "outlinewidth": 0,
             "ticks": ""
            },
            "colorscale": [
             [
              0,
              "#0d0887"
             ],
             [
              0.1111111111111111,
              "#46039f"
             ],
             [
              0.2222222222222222,
              "#7201a8"
             ],
             [
              0.3333333333333333,
              "#9c179e"
             ],
             [
              0.4444444444444444,
              "#bd3786"
             ],
             [
              0.5555555555555556,
              "#d8576b"
             ],
             [
              0.6666666666666666,
              "#ed7953"
             ],
             [
              0.7777777777777778,
              "#fb9f3a"
             ],
             [
              0.8888888888888888,
              "#fdca26"
             ],
             [
              1,
              "#f0f921"
             ]
            ],
            "type": "histogram2dcontour"
           }
          ],
          "mesh3d": [
           {
            "colorbar": {
             "outlinewidth": 0,
             "ticks": ""
            },
            "type": "mesh3d"
           }
          ],
          "parcoords": [
           {
            "line": {
             "colorbar": {
              "outlinewidth": 0,
              "ticks": ""
             }
            },
            "type": "parcoords"
           }
          ],
          "pie": [
           {
            "automargin": true,
            "type": "pie"
           }
          ],
          "scatter": [
           {
            "fillpattern": {
             "fillmode": "overlay",
             "size": 10,
             "solidity": 0.2
            },
            "type": "scatter"
           }
          ],
          "scatter3d": [
           {
            "line": {
             "colorbar": {
              "outlinewidth": 0,
              "ticks": ""
             }
            },
            "marker": {
             "colorbar": {
              "outlinewidth": 0,
              "ticks": ""
             }
            },
            "type": "scatter3d"
           }
          ],
          "scattercarpet": [
           {
            "marker": {
             "colorbar": {
              "outlinewidth": 0,
              "ticks": ""
             }
            },
            "type": "scattercarpet"
           }
          ],
          "scattergeo": [
           {
            "marker": {
             "colorbar": {
              "outlinewidth": 0,
              "ticks": ""
             }
            },
            "type": "scattergeo"
           }
          ],
          "scattergl": [
           {
            "marker": {
             "colorbar": {
              "outlinewidth": 0,
              "ticks": ""
             }
            },
            "type": "scattergl"
           }
          ],
          "scattermapbox": [
           {
            "marker": {
             "colorbar": {
              "outlinewidth": 0,
              "ticks": ""
             }
            },
            "type": "scattermapbox"
           }
          ],
          "scatterpolar": [
           {
            "marker": {
             "colorbar": {
              "outlinewidth": 0,
              "ticks": ""
             }
            },
            "type": "scatterpolar"
           }
          ],
          "scatterpolargl": [
           {
            "marker": {
             "colorbar": {
              "outlinewidth": 0,
              "ticks": ""
             }
            },
            "type": "scatterpolargl"
           }
          ],
          "scatterternary": [
           {
            "marker": {
             "colorbar": {
              "outlinewidth": 0,
              "ticks": ""
             }
            },
            "type": "scatterternary"
           }
          ],
          "surface": [
           {
            "colorbar": {
             "outlinewidth": 0,
             "ticks": ""
            },
            "colorscale": [
             [
              0,
              "#0d0887"
             ],
             [
              0.1111111111111111,
              "#46039f"
             ],
             [
              0.2222222222222222,
              "#7201a8"
             ],
             [
              0.3333333333333333,
              "#9c179e"
             ],
             [
              0.4444444444444444,
              "#bd3786"
             ],
             [
              0.5555555555555556,
              "#d8576b"
             ],
             [
              0.6666666666666666,
              "#ed7953"
             ],
             [
              0.7777777777777778,
              "#fb9f3a"
             ],
             [
              0.8888888888888888,
              "#fdca26"
             ],
             [
              1,
              "#f0f921"
             ]
            ],
            "type": "surface"
           }
          ],
          "table": [
           {
            "cells": {
             "fill": {
              "color": "#EBF0F8"
             },
             "line": {
              "color": "white"
             }
            },
            "header": {
             "fill": {
              "color": "#C8D4E3"
             },
             "line": {
              "color": "white"
             }
            },
            "type": "table"
           }
          ]
         },
         "layout": {
          "annotationdefaults": {
           "arrowcolor": "#2a3f5f",
           "arrowhead": 0,
           "arrowwidth": 1
          },
          "autotypenumbers": "strict",
          "coloraxis": {
           "colorbar": {
            "outlinewidth": 0,
            "ticks": ""
           }
          },
          "colorscale": {
           "diverging": [
            [
             0,
             "#8e0152"
            ],
            [
             0.1,
             "#c51b7d"
            ],
            [
             0.2,
             "#de77ae"
            ],
            [
             0.3,
             "#f1b6da"
            ],
            [
             0.4,
             "#fde0ef"
            ],
            [
             0.5,
             "#f7f7f7"
            ],
            [
             0.6,
             "#e6f5d0"
            ],
            [
             0.7,
             "#b8e186"
            ],
            [
             0.8,
             "#7fbc41"
            ],
            [
             0.9,
             "#4d9221"
            ],
            [
             1,
             "#276419"
            ]
           ],
           "sequential": [
            [
             0,
             "#0d0887"
            ],
            [
             0.1111111111111111,
             "#46039f"
            ],
            [
             0.2222222222222222,
             "#7201a8"
            ],
            [
             0.3333333333333333,
             "#9c179e"
            ],
            [
             0.4444444444444444,
             "#bd3786"
            ],
            [
             0.5555555555555556,
             "#d8576b"
            ],
            [
             0.6666666666666666,
             "#ed7953"
            ],
            [
             0.7777777777777778,
             "#fb9f3a"
            ],
            [
             0.8888888888888888,
             "#fdca26"
            ],
            [
             1,
             "#f0f921"
            ]
           ],
           "sequentialminus": [
            [
             0,
             "#0d0887"
            ],
            [
             0.1111111111111111,
             "#46039f"
            ],
            [
             0.2222222222222222,
             "#7201a8"
            ],
            [
             0.3333333333333333,
             "#9c179e"
            ],
            [
             0.4444444444444444,
             "#bd3786"
            ],
            [
             0.5555555555555556,
             "#d8576b"
            ],
            [
             0.6666666666666666,
             "#ed7953"
            ],
            [
             0.7777777777777778,
             "#fb9f3a"
            ],
            [
             0.8888888888888888,
             "#fdca26"
            ],
            [
             1,
             "#f0f921"
            ]
           ]
          },
          "colorway": [
           "#636efa",
           "#EF553B",
           "#00cc96",
           "#ab63fa",
           "#FFA15A",
           "#19d3f3",
           "#FF6692",
           "#B6E880",
           "#FF97FF",
           "#FECB52"
          ],
          "font": {
           "color": "#2a3f5f"
          },
          "geo": {
           "bgcolor": "white",
           "lakecolor": "white",
           "landcolor": "#E5ECF6",
           "showlakes": true,
           "showland": true,
           "subunitcolor": "white"
          },
          "hoverlabel": {
           "align": "left"
          },
          "hovermode": "closest",
          "mapbox": {
           "style": "light"
          },
          "paper_bgcolor": "white",
          "plot_bgcolor": "#E5ECF6",
          "polar": {
           "angularaxis": {
            "gridcolor": "white",
            "linecolor": "white",
            "ticks": ""
           },
           "bgcolor": "#E5ECF6",
           "radialaxis": {
            "gridcolor": "white",
            "linecolor": "white",
            "ticks": ""
           }
          },
          "scene": {
           "xaxis": {
            "backgroundcolor": "#E5ECF6",
            "gridcolor": "white",
            "gridwidth": 2,
            "linecolor": "white",
            "showbackground": true,
            "ticks": "",
            "zerolinecolor": "white"
           },
           "yaxis": {
            "backgroundcolor": "#E5ECF6",
            "gridcolor": "white",
            "gridwidth": 2,
            "linecolor": "white",
            "showbackground": true,
            "ticks": "",
            "zerolinecolor": "white"
           },
           "zaxis": {
            "backgroundcolor": "#E5ECF6",
            "gridcolor": "white",
            "gridwidth": 2,
            "linecolor": "white",
            "showbackground": true,
            "ticks": "",
            "zerolinecolor": "white"
           }
          },
          "shapedefaults": {
           "line": {
            "color": "#2a3f5f"
           }
          },
          "ternary": {
           "aaxis": {
            "gridcolor": "white",
            "linecolor": "white",
            "ticks": ""
           },
           "baxis": {
            "gridcolor": "white",
            "linecolor": "white",
            "ticks": ""
           },
           "bgcolor": "#E5ECF6",
           "caxis": {
            "gridcolor": "white",
            "linecolor": "white",
            "ticks": ""
           }
          },
          "title": {
           "x": 0.05
          },
          "xaxis": {
           "automargin": true,
           "gridcolor": "white",
           "linecolor": "white",
           "ticks": "",
           "title": {
            "standoff": 15
           },
           "zerolinecolor": "white",
           "zerolinewidth": 2
          },
          "yaxis": {
           "automargin": true,
           "gridcolor": "white",
           "linecolor": "white",
           "ticks": "",
           "title": {
            "standoff": 15
           },
           "zerolinecolor": "white",
           "zerolinewidth": 2
          }
         }
        },
        "title": {
         "text": "Age Distribution by Attrition Status"
        },
        "xaxis": {
         "anchor": "y2",
         "domain": [
          0,
          1
         ],
         "dtick": 5,
         "range": [
          15,
          60
         ],
         "title": {
          "text": "Age"
         },
         "zeroline": false
        },
        "yaxis": {
         "anchor": "free",
         "domain": [
          0,
          1
         ],
         "position": 0,
         "title": {
          "text": "Probability Density"
         }
        }
       }
      },
      "text/html": [
       "<div>                            <div id=\"e328fe7e-e431-44c1-9d4b-60b84a44f52a\" class=\"plotly-graph-div\" style=\"height:525px; width:100%;\"></div>            <script type=\"text/javascript\">                require([\"plotly\"], function(Plotly) {                    window.PLOTLYENV=window.PLOTLYENV || {};                                    if (document.getElementById(\"e328fe7e-e431-44c1-9d4b-60b84a44f52a\")) {                    Plotly.newPlot(                        \"e328fe7e-e431-44c1-9d4b-60b84a44f52a\",                        [{\"legendgroup\":\"Active Employees\",\"marker\":{\"color\":\"rgb(31, 119, 180)\"},\"mode\":\"lines\",\"name\":\"Active Employees\",\"showlegend\":true,\"x\":[18.0,18.084,18.168,18.252,18.336,18.42,18.504,18.588,18.672,18.756,18.84,18.924,19.008,19.092,19.176,19.26,19.344,19.428,19.512,19.596,19.68,19.764,19.848,19.932,20.016,20.1,20.184,20.268,20.352,20.436,20.52,20.604,20.688,20.772,20.856,20.94,21.024,21.108,21.192,21.276,21.36,21.444,21.528,21.612000000000002,21.696,21.78,21.864,21.948,22.032,22.116,22.2,22.284,22.368000000000002,22.451999999999998,22.536,22.62,22.704,22.788,22.872,22.956,23.04,23.124,23.208,23.292,23.376,23.46,23.544,23.628,23.712,23.796,23.88,23.964,24.048000000000002,24.131999999999998,24.216,24.3,24.384,24.468,24.552,24.636,24.72,24.804000000000002,24.887999999999998,24.972,25.056,25.14,25.224,25.308,25.392,25.476,25.56,25.644,25.728,25.812,25.896,25.98,26.064,26.148,26.232,26.316000000000003,26.4,26.484,26.567999999999998,26.652,26.736,26.82,26.904,26.988,27.072,27.156,27.240000000000002,27.323999999999998,27.408,27.492,27.576,27.66,27.744,27.828,27.912,27.996000000000002,28.08,28.164,28.247999999999998,28.332,28.416,28.5,28.584,28.668,28.752000000000002,28.836,28.92,29.003999999999998,29.088,29.172,29.256,29.34,29.424,29.508,29.592,29.676000000000002,29.759999999999998,29.844,29.928,30.012,30.096,30.18,30.264,30.348,30.432000000000002,30.516,30.6,30.683999999999997,30.768,30.852,30.936,31.02,31.104,31.188000000000002,31.272,31.356,31.439999999999998,31.524,31.608,31.692,31.776,31.86,31.944000000000003,32.028,32.112,32.196,32.28,32.364000000000004,32.448,32.532,32.616,32.7,32.784,32.868,32.952,33.036,33.12,33.204,33.288,33.372,33.456,33.54,33.624,33.708,33.792,33.876,33.96,34.044,34.128,34.212,34.296,34.379999999999995,34.464,34.548,34.632000000000005,34.716,34.8,34.884,34.968,35.052,35.135999999999996,35.22,35.304,35.388000000000005,35.472,35.556,35.64,35.724000000000004,35.808,35.891999999999996,35.976,36.06,36.144,36.228,36.312,36.396,36.480000000000004,36.564,36.647999999999996,36.732,36.816,36.9,36.984,37.068,37.152,37.236000000000004,37.32,37.403999999999996,37.488,37.572,37.656,37.739999999999995,37.824,37.908,37.992000000000004,38.076,38.16,38.244,38.328,38.412,38.495999999999995,38.58,38.664,38.748000000000005,38.832,38.916,39.0,39.084,39.168,39.251999999999995,39.336,39.42,39.504000000000005,39.588,39.672,39.756,39.84,39.924,40.007999999999996,40.092,40.176,40.260000000000005,40.344,40.428,40.512,40.596000000000004,40.68,40.763999999999996,40.848,40.932,41.016,41.1,41.184,41.268,41.352000000000004,41.436,41.519999999999996,41.604,41.688,41.772,41.856,41.94,42.024,42.108000000000004,42.192,42.275999999999996,42.36,42.444,42.528,42.611999999999995,42.696,42.78,42.864000000000004,42.948,43.032,43.116,43.2,43.284,43.367999999999995,43.452,43.536,43.620000000000005,43.704,43.788,43.872,43.956,44.04,44.123999999999995,44.208,44.292,44.376000000000005,44.46,44.544,44.628,44.712,44.796,44.879999999999995,44.964,45.048,45.132000000000005,45.216,45.3,45.384,45.468,45.552,45.635999999999996,45.72,45.804,45.888000000000005,45.972,46.056,46.14,46.224000000000004,46.308,46.391999999999996,46.476,46.56,46.644,46.728,46.812,46.896,46.980000000000004,47.064,47.147999999999996,47.232,47.316,47.4,47.484,47.568,47.652,47.736000000000004,47.82,47.903999999999996,47.988,48.072,48.156,48.239999999999995,48.324,48.408,48.492000000000004,48.576,48.66,48.744,48.828,48.912,48.995999999999995,49.08,49.164,49.248000000000005,49.332,49.416,49.5,49.584,49.668,49.751999999999995,49.836,49.92,50.004,50.088,50.172,50.256,50.34,50.424,50.508,50.592,50.676,50.76,50.844,50.928,51.012,51.096,51.18,51.264,51.348,51.432,51.516,51.6,51.684,51.768,51.852,51.936,52.02,52.104,52.188,52.272,52.356,52.44,52.524,52.608,52.692,52.776,52.86,52.944,53.028,53.112,53.196,53.28,53.364,53.448,53.532,53.616,53.7,53.784,53.868,53.952,54.036,54.12,54.204,54.288,54.372,54.456,54.54,54.624,54.708,54.792,54.876,54.96,55.044,55.128,55.212,55.296,55.38,55.464,55.548,55.632,55.716,55.8,55.884,55.968,56.052,56.136,56.22,56.304,56.388,56.472,56.556,56.64,56.724,56.808,56.892,56.976,57.06,57.144,57.228,57.312,57.396,57.48,57.564,57.648,57.732,57.816,57.9,57.984,58.068,58.152,58.236,58.32,58.404,58.488,58.572,58.656,58.74,58.824,58.908,58.992,59.076,59.16,59.244,59.328,59.412,59.496,59.58,59.664,59.748,59.832,59.916],\"xaxis\":\"x\",\"y\":[0.002360849677535472,0.0024480264867824454,0.002536990830597226,0.0026277521120393016,0.0027203214223296517,0.0028147116348446392,0.0029109374876033927,0.003009015654279641,0.0031089648039148445,0.0032108056496429594,0.003314560986857621,0.003420255721357848,0.0035279168880947604,0.0036375736612112145,0.0037492573561132654,0.003863001424340915,0.003978841442011095,0.004096815092591879,0.0042169621447313965,0.004339324425810845,0.00446394579181809,0.004590872094049073,0.00472015114304088,0.0048518326700235925,0.0049859682860520045,0.005122611438846015,0.005261817367228679,0.005403643052912823,0.005548147169248647,0.005695390026408208,0.005845433512358536,0.005998341028851853,0.006154177421559526,0.006313008903379849,0.006474902969875715,0.006639928305738344,0.006808154681135035,0.006979652836779918,0.007154494356569909,0.007332751526654743,0.007514497179855845,0.007699804524423198,0.007888746956209393,0.008081397853456913,0.008277830353532264,0.008478117111093968,0.008682330037360958,0.008890540020336887,0.009102816626056057,0.009319227781138105,0.00953983943717241,0.009764715217693476,0.00999391604876101,0.010227499774409291,0.010465520758485376,0.010708029474649407,0.01095507208655955,0.011206690020500816,0.01146291953295354,0.01172379127580757,0.011989329862129668,0.01225955343556882,0.012534473246640556,0.012814093239256015,0.013098409650961537,0.013387410630420768,0.013681075875697888,0.013979376296898983,0.014282273706677362,0.014589720542023395,0.014901659620634592,0.015218023934982028,0.015538736486986561,0.015863710165955874,0.016192847672145284,0.016526041487968827,0.016863173898523192,0.017204117062688325,0.01754873313564248,0.017896874443184437,0.018248383707785396,0.018603094325828278,0.01896083069500256,0.019321408590355225,0.019684635587028234,0.02005031152726724,0.020418229028861163,0.020788174031783357,0.021159926379451317,0.021533260430716374,0.021907945698439804,0.022283747510311654,0.022660427687431935,0.023037745236099475,0.023415457048243455,0.023793318605991504,0.0241710846859938,0.024548510059304775,0.024925350182883863,0.025301361879067397,0.025676303999733256,0.026049938072272183,0.026422028924914753,0.026792345289426825,0.02716066037966149,0.02752675244494141,0.027890405297724175,0.028251408815461614,0.028609559417008865,0.02896466051432819,0.02931652294059334,0.02966496535608235,0.030009814633492362,0.030350906224448478,0.030688084509076053,0.03102120313048643,0.03135012531595964,0.031674724186415745,0.03199488305552933,0.032310495719502966,0.032621466738106016,0.032927711707116766,0.033229157521767715,0.03352574263021872,0.03381741727546538,0.034104143723454695,0.03438589647452756,0.034662662454684266,0.03493444118253499,0.035201244907234704,0.0354630987121735,0.03572004057873525,0.035972121404077045,0.03621940496659803,0.036461967832608064,0.03669989919766359,0.03693330065611408,0.037162285892631604,0.03738698028984407,0.03760752044670068,0.03782405360283189,0.03803673696495048,0.03824573693224617,0.03845122821876486,0.038653392871914875,0.038852419187488045,0.039048500522923794,0.03924183401195627,0.03943261918522654,0.03962105650294187,0.03980734580715758,0.03999168470273012,0.04017426687744084,0.040355280373175914,0.0405349058213404,0.04071331465688782,0.04089066732641012,0.04106711150664828,0.041242780350545835,0.041417790778523124,0.041592241833025935,0.041766213114561156,0.04193976331736238,0.042112928882535205,0.0422857227860251,0.04245813347796593,0.04263012398901608,0.04280163121805659,0.04297256541421706,0.043142809864574236,0.043312220797058355,0.04348062750612737,0.04364783270666956,0.04381361311933193,0.0439777202881609,0.04413988162904335,0.04429980170498311,0.04445716372182857,0.044611631235634226,0.04476285006048215,0.044910450363316486,0.04505404893017164,0.04519325158618223,0.045327655749895036,0.04545685310077181,0.045580432337355335,0.045697982002364315,0.04580909335007482,0.045913363230687954,0.046010396965988985,0.04609981119054301,0.04618123663284712,0.04625432081136188,0.04631873062110349,0.046374154787532575,0.046420306165761496,0.046456923864662714,0.046483775177215574,0.04650065730040985,0.04650739883015787,0.04650386101896917,0.0464899387865524,0.04646556147600143,0.046430693350796935,0.04638533383042258,0.0463295174649789,0.04626331365172302,0.04618682609892361,0.04610019204480236,0.046003581241590256,0.045897194716820494,0.04578126332592347,0.04565604611192608,0.045521828489600444,0.04537892027272344,0.04522765356419267,0.04506838052960075,0.04490147107547882,0.04472731045379137,0.04454629681439589,0.04435883872709405,0.04416535269456343,0.04396626067695463,0.04376198764818447,0.04355295920307279,0.04333959923338366,0.04312232768962202,0.0429015584440995,0.04267769726932941,0.04245113994429324,0.04222227049952054,0.041991459610296704,0.041759063145656444,0.04152542087916018,0.04129085536580857,0.04105567098783478,0.04082015317055162,0.04058456776792195,0.040349160616082284,0.040114157251708554,0.039879762790838234,0.03964616196261086,0.039413519291313724,0.039181979419181806,0.038951667561533954,0.03872269008510275,0.03849513519977431,0.038269073753434676,0.038044560119195145,0.03782163316394537,0.03760031728695872,0.037380623517138674,0.03716255065744887,0.036946086465098386,0.03673120885617062,0.036517887123559765,0.03630608315733575,0.03609575265696206,0.035886846325171494,0.03567931103372257,0.0354730909517416,0.03526812862787878,0.0350643660180747,0.034861745451355716,0.03466021052672136,0.03445970693488078,0.03426018319933026,0.03406159133201803,0.033863887399636305,0.0336670319974094,0.0334709906280857,0.033275733984714145,0.03308123813668033,0.03288748461936604,0.03269446042872469,0.03250215792296051,0.032310574634427484,0.032119712995752704,0.03192957998507491,0.03174018669614729,0.03155154783986729,0.03136368118457629,0.031176606943191125,0.03099034711588224,0.030804924797599314,0.03062036346023888,0.030436686219652943,0.03025391509799553,0.030072070292104475,0.029891169458671,0.029711227026917517,0.029532253549304395,0.029354255100490514,0.02917723273431647,0.02900118200800267,0.02882609258204391,0.028651947903448695,0.028478724979009506,0.028306394244220396,0.02813491953229068,0.027964258146442236,0.027794361037339566,0.02762517308610611,0.02745663349195336,0.027288676261980976,0.02712123079924552,0.026954222583762528,0.026787573939689825,0.02662120488060372,0.026455034023515237,0.02628897956111445,0.026122960280685836,0.025956896617243208,0.025790711727684098,0.02562433257218159,0.025457690988651825,0.025290724745914116,0.02512337856117089,0.024955605067623534,0.024787365718441038,0.024618631613903194,0.024449384239328714,0.024279616102384643,0.024109331259531075,0.02393854572267061,0.023767287738526887,0.023595597934873303,0.023423529329407288,0.0232511471988296,0.023078528807518997,0.022905762997015387,0.022732949639393176,0.02256019895940531,0.022387630732056414,0.02221537336394772,0.022043562868312723,0.021872341745128244,0.021701857778975712,0.021532262768481705,0.02136371120210079,0.021196358895763382,0.021030361608448872,0.02086587365205812,0.02070304651206309,0.020542027495272806,0.020382958420703208,0.020225974368968055,0.02007120250481821,0.0199187609864823,0.019768757974291073,0.019621290749735756,0.019476444954635304,0.01933429395847448,0.019194898360272647,0.019058305629556106,0.01892454988916549,0.01879365184077166,0.01866561883210609,0.018540445063076526,0.01841811192615769,0.018298588474737143,0.018181832011491737,0.018067788787388937,0.017956394800563314,0.017847576683136916,0.017741252663048542,0.017637333587134704,0.01753572399108145,0.017436323201451224,0.0173390264547728,0.017243726018680197,0.017150312300291914,0.01705867492741993,0.016968703788799114,0.01688029002030429,0.01679332692507365,0.016707710816560677,0.016623341774776142,0.016540124307346714,0.0164579679084737,0.016376787510412313,0.01629650382368665,0.016217043563877275,0.01613833956445894,0.01606033077678362,0.015982962159898195,0.015906184464414216,0.01582995391611056,0.015754231806306467,0.015678983997296555,0.015604180352262456,0.015529794100054737,0.015455801146069889,0.015382179341112339,0.015308907720628782,0.01523596572702437,0.01516333242791766,0.015090985743161058,0.015018901693248201,0.014947053681356041,0.014875411820734227,0.014803942318458902,0.014732606925735515,0.014661362463968736,0.014590160434727578,0.014518946720552626,0.014447661382269546,0.014376238557136916,0.01430460646075061,0.014232687494205077,0.014160398456559883,0.01408765086121917,0.014014351353411664,0.013940402224573043,0.01386570201810831,0.013790146219759108,0.01371362802462883,0.013636039171864575,0.013557270837035194,0.013477214571431915,0.013395763276823671,0.013312812203666497,0.013228259960366685,0.013142009520973016,0.013053969218587995,0.012964053711881458,0.012872184912323394,0.012778292860158141,0.01268231653768933,0.012584204609138734,0.012483916077172998,0.012381420847150309,0.012276700191212925,0.012169747105521055,0.012060566555193606,0.0119491756028496,0.011835603418042876,0.011719891166309495,0.011602091778002957,0.011482269598551495,0.011360499923211498,0.011236868420806373,0.011111470452298901,0.010984410291339518,0.01085580025514423,0.010725759755165354,0.01059441427801549,0.01046189430797462,0.010328334203144236,0.010193871037890899,0.010058643424654215,0.009922790328455746,0.009786449887545805,0.009649758253556823,0.00951284846429688,0.009375849361915703,0.009238884568618233,0.009102071531388575,0.008965520646331627,0.008829334472254423,0.00869360704200275,0.008558423278857417,0.008423858523996866,0.008289978179660722,0.008156837471225416,0.008024481329945628,0.007892944396640022,0.007762251145132152,0.007632416122811326,0.0075034443042759505,0.007375331552680389,0.007248065182142986,0.007121624613404994,0.006995982113870248,0.006871103612220591,0.006746949576996926,0.006623475947879633,0.006500635107889879,0.006378376884383478,0.006256649566511423,0.006135400926787153,0.006014579234522535,0.005894134249168639,0.0057740181820213924,0.005654186615315288,0.005534599368419034,0.005415221301660906,0.0052960230492255225,0.0051769816735740826,0.005058081234922302,0.004939313270456233,0.004820677179153411,0.004702180509291703,0.004583839146953654,0.004465677405052532,0.004347728013602811,0.004230032013115348,0.0041126385541047925,0.003995604606736398,0.003878994585602559],\"yaxis\":\"y\",\"type\":\"scatter\"},{\"legendgroup\":\"Ex-Employees\",\"marker\":{\"color\":\"rgb(255, 127, 14)\"},\"mode\":\"lines\",\"name\":\"Ex-Employees\",\"showlegend\":true,\"x\":[18.0,18.08,18.16,18.24,18.32,18.4,18.48,18.56,18.64,18.72,18.8,18.88,18.96,19.04,19.12,19.2,19.28,19.36,19.44,19.52,19.6,19.68,19.76,19.84,19.92,20.0,20.08,20.16,20.240000000000002,20.32,20.4,20.48,20.56,20.64,20.72,20.8,20.88,20.96,21.04,21.12,21.2,21.28,21.36,21.44,21.52,21.6,21.68,21.759999999999998,21.84,21.92,22.0,22.08,22.16,22.240000000000002,22.32,22.4,22.48,22.56,22.64,22.72,22.8,22.88,22.96,23.04,23.12,23.2,23.28,23.36,23.44,23.52,23.6,23.68,23.759999999999998,23.84,23.92,24.0,24.08,24.16,24.240000000000002,24.32,24.4,24.48,24.56,24.64,24.72,24.8,24.88,24.96,25.04,25.12,25.2,25.28,25.36,25.44,25.52,25.6,25.68,25.759999999999998,25.84,25.92,26.0,26.08,26.16,26.240000000000002,26.32,26.4,26.48,26.560000000000002,26.64,26.72,26.8,26.880000000000003,26.96,27.04,27.119999999999997,27.2,27.28,27.36,27.439999999999998,27.52,27.6,27.68,27.759999999999998,27.84,27.92,28.0,28.08,28.16,28.240000000000002,28.32,28.4,28.48,28.560000000000002,28.64,28.72,28.8,28.880000000000003,28.96,29.04,29.119999999999997,29.2,29.28,29.36,29.439999999999998,29.52,29.6,29.68,29.759999999999998,29.84,29.92,30.0,30.08,30.16,30.240000000000002,30.32,30.4,30.48,30.560000000000002,30.64,30.72,30.8,30.880000000000003,30.96,31.04,31.119999999999997,31.2,31.28,31.36,31.439999999999998,31.52,31.6,31.68,31.759999999999998,31.84,31.92,32.0,32.08,32.16,32.24,32.32,32.4,32.480000000000004,32.56,32.64,32.72,32.8,32.88,32.96,33.04,33.12,33.2,33.28,33.36,33.44,33.519999999999996,33.6,33.68,33.76,33.84,33.92,34.0,34.08,34.16,34.239999999999995,34.32,34.4,34.480000000000004,34.56,34.64,34.72,34.8,34.879999999999995,34.96,35.04,35.120000000000005,35.2,35.28,35.36,35.44,35.519999999999996,35.6,35.68,35.760000000000005,35.84,35.92,36.0,36.08,36.16,36.239999999999995,36.32,36.4,36.480000000000004,36.56,36.64,36.72,36.8,36.879999999999995,36.96,37.04,37.120000000000005,37.2,37.28,37.36,37.44,37.519999999999996,37.6,37.68,37.760000000000005,37.84,37.92,38.0,38.08,38.16,38.239999999999995,38.32,38.4,38.480000000000004,38.56,38.64,38.72,38.8,38.879999999999995,38.96,39.04,39.120000000000005,39.2,39.28,39.36,39.44,39.519999999999996,39.6,39.68,39.760000000000005,39.84,39.92,40.0,40.08,40.16,40.239999999999995,40.32,40.4,40.480000000000004,40.56,40.64,40.72,40.8,40.879999999999995,40.96,41.04,41.120000000000005,41.2,41.28,41.36,41.44,41.519999999999996,41.6,41.68,41.760000000000005,41.84,41.92,42.0,42.08,42.16,42.239999999999995,42.32,42.4,42.480000000000004,42.56,42.64,42.72,42.8,42.879999999999995,42.96,43.04,43.120000000000005,43.2,43.28,43.36,43.44,43.519999999999996,43.6,43.68,43.760000000000005,43.84,43.92,44.0,44.08,44.16,44.239999999999995,44.32,44.4,44.480000000000004,44.56,44.64,44.72,44.8,44.879999999999995,44.96,45.04,45.120000000000005,45.2,45.28,45.36,45.44,45.519999999999996,45.6,45.68,45.760000000000005,45.84,45.92,46.0,46.08,46.16,46.239999999999995,46.32,46.4,46.480000000000004,46.56,46.64,46.72,46.8,46.879999999999995,46.96,47.04,47.120000000000005,47.2,47.28,47.36,47.44,47.519999999999996,47.6,47.68,47.760000000000005,47.84,47.92,48.0,48.08,48.16,48.239999999999995,48.32,48.4,48.480000000000004,48.56,48.64,48.72,48.8,48.879999999999995,48.96,49.04,49.120000000000005,49.2,49.28,49.36,49.44,49.519999999999996,49.6,49.68,49.760000000000005,49.84,49.92,50.0,50.08,50.16,50.24,50.32,50.4,50.48,50.56,50.64,50.72,50.8,50.88,50.96,51.04,51.12,51.2,51.28,51.36,51.44,51.52,51.6,51.68,51.76,51.84,51.92,52.0,52.08,52.16,52.24,52.32,52.4,52.48,52.56,52.64,52.72,52.8,52.88,52.96,53.04,53.12,53.2,53.28,53.36,53.44,53.52,53.6,53.68,53.76,53.84,53.92,54.0,54.08,54.16,54.24,54.32,54.4,54.48,54.56,54.64,54.72,54.8,54.88,54.96,55.04,55.12,55.2,55.28,55.36,55.44,55.52,55.6,55.68,55.76,55.84,55.92,56.0,56.08,56.16,56.24,56.32,56.4,56.48,56.56,56.64,56.72,56.8,56.88,56.96,57.04,57.12,57.2,57.28,57.36,57.44,57.52,57.6,57.68,57.76,57.84,57.92],\"xaxis\":\"x\",\"y\":[0.01288740262295032,0.01313087588715246,0.013374403632221765,0.013617887513449802,0.013861232278217799,0.014104346026472552,0.014347140462637962,0.014589531138054215,0.014831437683067385,0.015072784027925158,0.015313498611671184,0.01555351457827068,0.01579276995924415,0.016031207842131617,0.016268776524159926,0.016505429650536467,0.016741126336848027,0.016975831275097726,0.017209514822973306,0.017442153075996066,0.01767372792226347,0.01790422707955705,0.018133644114650967,0.01836197844471736,0.018589235320787854,0.018815425793291582,0.01904056665975224,0.019264680394786,0.01948779506260275,0.019709944212269768,0.019931166756054178,0.0201515068312146,0.020371013645664925,0.02058974130798298,0.02080774864228518,0.02102509898853212,0.021241859988873946,0.021458103360682025,0.02167390465695105,0.021889343014787864,0.022104500892734955,0.022319463797700872,0.022534320002296295,0.022749160253392246,0.022964077472735992,0.023179166450472133,0.023394523532428532,0.023610246302033646,0.023826433257735802,0.024043183486796633,0.02426059633633049,0.024478771082456253,0.02469780659842106,0.024917801022548272,0.02513885142684774,0.025361053487115013,0.025584501155329002,0.025809286335141072,0.026035498561228373,0.026263224683264603,0.026492548555237534,0.026723550730822245,0.026956308165491164,0.027190893926020473,0.027427376908022418,0.027665821562112048,0.027906287629283502,0.028148829886049467,0.028393497899866504,0.028640335795342173,0.02888938203169312,0.02914066919189428,0.029394223783933412,0.02965006605455685,0.029908209815865224,0.030168662285092684,0.030431423937874933,0.030696488375285557,0.030963842204895887,0.031233464936085257,0.031505328889806165,0.03177939912298141,0.03205563336768736,0.03233398198525127,0.03261438793536766,0.032896786760313115,0.03318110658431509,0.033467268128106964,0.03375518473867503,0.03404476243418081,0.03433589996401739,0.034628488883931594,0.034922413646122225,0.03521755170419681,0.035513773632844824,0.03581094326206049,0.0361089178257205,0.03640754812429784,0.03670667870146458,0.037006148034310515,0.037305788736878225,0.037605427776686094,0.03790488670388538,0.03820398189266895,0.038502524794521945,0.03880032220287738,0.03909717652871289,0.03939288608659737,0.039687245390669416,0.03998004546000427,0.04027107413279964,0.040560116388786226,0.0408469546792455,0.04113136926399269,0.041413138554662776,0.04169203946361665,0.04196784775776293,0.04224033841657793,0.0425092859935847,0.04277446498054309,0.04303565017358623,0.04329261704053186,0.043545142088586036,0.04379300323165347,0.044035980156461985,0.04427385468671123,0.04450641114445248,0.04473343670791464,0.044954721764993835,0.045170060261635565,0.04537925004434773,0.04558209319609822,0.04577839636486696,0.0459679710841387,0.046150634084649075,0.04632620759671417,0.04649451964250602,0.046655404317658015,0.04680870206161997,0.0469542599162117,0.04709193177185851,0.047221578601026555,0.04734306867841606,0.04745627778750406,0.04756108941307237,0.04765739491939334,0.047745093713789474,0.04782409339532271,0.04789430988841304,0.047955667561227225,0.04800809932872117,0.04805154674025998,0.04808596005178473,0.0481112982825313,0.0481275292563513,0.048134629627720124,0.04813258489255973,0.04812138938403564,0.04810104625352795,0.048071567437005476,0.04803297360706774,0.04798529411094763,0.04792856689479748,0.04786283841460601,0.047788163534120465,0.047704605410168,0.0476122353657922,0.04751113275163918,0.04740138479604096,0.047283086444260686,0.047156340187375106,0.04702125588127662,0.04687795055628989,0.046726548217898074,0.04656717963908228,0.046399982144775934,0.04622509938893847,0.04604268112475115,0.045852882968432894,0.04565586615717271,0.04545179730166773,0.04524084813375069,0.045023195249582176,0.044799019848875375,0.04456850747061183,0.044331847725697066,0.04408923402699475,0.04384086331716906,0.04358693579475188,0.043327654638844255,0.04306322573284803,0.04279385738761541,0.04251976006439367,0.04224114609793141,0.041958229420105235,0.041671225284416316,0.04138034999169739,0.04108582061736374,0.0407878547405358,0.04048667017535146,0.04018248470478459,0.0398755158172775,0.039565980446493114,0.03925409471448619,0.03894007367859341,0.03862413108233422,0.038306479110616104,0.0379873281495339,0.0376668865510503,0.0373453604028452,0.037022953303617226,0.03669986614412182,0.036376296894225835,0.03605244039625961,0.035728488164941875,0.03540462819415373,0.03508104477083102,0.034757918296243785,0.03443542511492409,0.03411373735149983,0.03379302275568467,0.033473444555667434,0.03315516132013412,0.03283832682914862,0.03252308995410356,0.03220959454694394,0.03189797933885029,0.03158837784855277,0.031280918300433995,0.030975723552556803,0.030672911034737554,0.030372592696762617,0.03007487496682662,0.02977985872024424,0.0294876392584691,0.029198306298421614,0.028911943972108237,0.028628630836481914,0.028348439893470724,0.028071438620070492,0.02779768900836989,0.027527247615348114,0.027260165622254515,0.026996488903353155,0.026736258103784404,0.026479508726268062,0.026226271226345313,0.025976571115828854,0.0257304290741046,0.025487861066904354,0.02524887847214252,0.02501348821239131,0.024781692893543067,0.02455349094919505,0.02432887679026884,0.02410784095936625,0.02389037028934663,0.023676448065602367,0.023466054191498192,0.023259165356435997,0.023055755206000443,0.02285579451364182,0.022659251353350944,0.022466091272787078,0.022276277466323765,0.022089770947486875,0.021906530720270913,0.02172651394883027,0.021549676125061576,0.02137597123360638,0.021205351913828076,0.021037769618333813,0.02087317476764038,0.0207115169006041,0.02055274482026443,0.02039680673477752,0.020243650393145542,0.02009322321547696,0.019945472417545893,0.019800345129446513,0.019657788508174418,0.019517749843994694,0.019380176660491927,0.019245016808225653,0.019112218551948935,0.01898173065137569,0.018853502435513907,0.018727483870609317,0.018603625621772785,0.018481879108389568,0.01836219655343454,0.01824453102683954,0.018128836483081955,0.01801506779318121,0.01790318077130944,0.017793132196237883,0.017684879827853436,0.017578382418992972,0.017473599722851684,0.017370492496229847,0.017269022498887607,0.017169152489281747,0.017070846216958473,0.016974068411877694,0.01687878477094118,0.01678496194199285,0.01669256750555478,0.016601569954555136,0.016511938672294616,0.016423643908891155,0.016336656756428286,0.016250949123023595,0.016166493706019164,0.016083263964484056,0.016001234091203426,0.0159203789843164,0.01584067421874901,0.015762096017574393,0.015684621223418772,0.015608227270016395,0.015532892154003832,0.015458594407029708,0.01538531306824457,0.01531302765722224,0.015241718147353686,0.01517136493974408,0.015101948837634285,0.015033451021359605,0.014965853023852579,0.014899136706688458,0.014833284236669983,0.014768278062941806,0.01470410089462383,0.014640735678951316,0.014578165579908282,0.014516373957342555,0.01445534434655258,0.014395060438337173,0.014335506059505846,0.01427666515384827,0.014218521763569547,0.014161060011201246,0.014104264082005389,0.014048118206894689,0.013992606645898539,0.013937713672211841,0.013883423556869485,0.013829720554096779,0.013776588887391613,0.013724012736401081,0.013671976224659757,0.01362046340826281,0.013569458265550265,0.013518944687883365,0.013468906471595144,0.013419327311200649,0.013370190793951279,0.01332148039581851,0.013273179478989615,0.013225271290956507,0.013177738965273647,0.013130565524057367,0.013083733882290817,0.01303722685399385,0.012991027160305807,0.01294511743952228,0.012899480259114046,0.01285409812974634,0.012808953521303252,0.012764028880908836,0.012719306652922978,0.01267476930087471,0.012630399331281196,0.01258617931928478,0.012542091936024652,0.01249811997764422,0.012454246395819397,0.012410454329676907,0.012366727138957189,0.012323048438260754,0.012279402132203424,0.012235772451291512,0.012192143988316204,0.01214850173505372,0.012104831119048422,0.012061118040245426,0.012017348907232956,0.011973510672846209,0.011929590868881483,0.011885577639664463,0.011841459774215982,0.011797226736758057,0.011752868695305193,0.011708376548089797,0.0116637419475756,0.011618957321821527,0.011574015892966338,0.011528911692616745,0.011483639573933856,0.011438195220227631,0.011392575149885419,0.011346776717478422,0.01130079811090919,0.011254638344484385,0.011208297247818414,0.011161775450497404,0.011115074362456956,0.011068196150051467,0.011021143707820083,0.01097392062597886,0.01092653115369677,0.010878980158239765,0.01083127308009325,0.010783415884201694,0.01073541500748886,0.010687277302849815,0.010639009979829866,0.010590620542230996,0.010542116722909618,0.010493506416051361,0.010444797607230693,0.010395998301581503,0.010347116450423563,0.010298159876705659,0.010249136199640416,0.010200052758918174,0.010150916538897922,0.010101734093180567,0.010052511469976379,0.010003254138681637,0.009953966918080644,0.009904653906588196,0.009855318414943857,0.009805962901763703,0.009756588912346166,0.009707197021118667,0.00965778677809813,0.009608356659723174,0.009558904024398757,0.009509425073073638,0.009459914815150527,0.009410367040004149,0.009360774294357799,0.009311127865742471,0.009261417772232987,0.009211632758627407,0.009161760299203524,0.009111786607155748,0.009061696650781593,0.009011474176454764,0.008961101738386709,0.008910560735145455,0.008859831452865416,0.008808893115047789,0.00875772393881759,0.00870630119746927,0.008654601289100663,0.008602599811102197,0.0085502716402382,0.008497591018026322,0.008444531641093288,0.00839106675615795,0.008337169259266872,0.008282811798884801,0.00822796688241975,0.008172606985743748,0.008116704665251766,0.00806023267198681,0.008003164067345797,0.007945472339870042,0.007887131522616504,0.007828116310599533,0.0077684021777904635,0.007707965493160727,0.007646783635257099,0.007584835104800983,0.007522099634811302,0.0074585582977594175,0.007394193609276136,0.0073289896279453625,0.0072629320507345526,0.007196008303631229,0.007128207627074819,0.007059521155795926,0.006989941992699261,0.006919465276452455,0.006848088242470969,0.006775810277017593,0.006702632964166294,0.006628560125410717,0.006553597851730634,0.006477754527962518,0.006401040849354182,0.00632346983021792,0.006245056804630764,0.006165819419165291,0.006085777617668628,0.006004953618142231,0.005923371881807921,0.005841059074479707],\"yaxis\":\"y\",\"type\":\"scatter\"}],                        {\"barmode\":\"overlay\",\"hovermode\":\"closest\",\"legend\":{\"traceorder\":\"reversed\"},\"xaxis\":{\"anchor\":\"y2\",\"domain\":[0.0,1.0],\"zeroline\":false,\"title\":{\"text\":\"Age\"},\"range\":[15,60],\"dtick\":5},\"yaxis\":{\"anchor\":\"free\",\"domain\":[0.0,1],\"position\":0.0,\"title\":{\"text\":\"Probability Density\"}},\"template\":{\"data\":{\"histogram2dcontour\":[{\"type\":\"histogram2dcontour\",\"colorbar\":{\"outlinewidth\":0,\"ticks\":\"\"},\"colorscale\":[[0.0,\"#0d0887\"],[0.1111111111111111,\"#46039f\"],[0.2222222222222222,\"#7201a8\"],[0.3333333333333333,\"#9c179e\"],[0.4444444444444444,\"#bd3786\"],[0.5555555555555556,\"#d8576b\"],[0.6666666666666666,\"#ed7953\"],[0.7777777777777778,\"#fb9f3a\"],[0.8888888888888888,\"#fdca26\"],[1.0,\"#f0f921\"]]}],\"choropleth\":[{\"type\":\"choropleth\",\"colorbar\":{\"outlinewidth\":0,\"ticks\":\"\"}}],\"histogram2d\":[{\"type\":\"histogram2d\",\"colorbar\":{\"outlinewidth\":0,\"ticks\":\"\"},\"colorscale\":[[0.0,\"#0d0887\"],[0.1111111111111111,\"#46039f\"],[0.2222222222222222,\"#7201a8\"],[0.3333333333333333,\"#9c179e\"],[0.4444444444444444,\"#bd3786\"],[0.5555555555555556,\"#d8576b\"],[0.6666666666666666,\"#ed7953\"],[0.7777777777777778,\"#fb9f3a\"],[0.8888888888888888,\"#fdca26\"],[1.0,\"#f0f921\"]]}],\"heatmap\":[{\"type\":\"heatmap\",\"colorbar\":{\"outlinewidth\":0,\"ticks\":\"\"},\"colorscale\":[[0.0,\"#0d0887\"],[0.1111111111111111,\"#46039f\"],[0.2222222222222222,\"#7201a8\"],[0.3333333333333333,\"#9c179e\"],[0.4444444444444444,\"#bd3786\"],[0.5555555555555556,\"#d8576b\"],[0.6666666666666666,\"#ed7953\"],[0.7777777777777778,\"#fb9f3a\"],[0.8888888888888888,\"#fdca26\"],[1.0,\"#f0f921\"]]}],\"heatmapgl\":[{\"type\":\"heatmapgl\",\"colorbar\":{\"outlinewidth\":0,\"ticks\":\"\"},\"colorscale\":[[0.0,\"#0d0887\"],[0.1111111111111111,\"#46039f\"],[0.2222222222222222,\"#7201a8\"],[0.3333333333333333,\"#9c179e\"],[0.4444444444444444,\"#bd3786\"],[0.5555555555555556,\"#d8576b\"],[0.6666666666666666,\"#ed7953\"],[0.7777777777777778,\"#fb9f3a\"],[0.8888888888888888,\"#fdca26\"],[1.0,\"#f0f921\"]]}],\"contourcarpet\":[{\"type\":\"contourcarpet\",\"colorbar\":{\"outlinewidth\":0,\"ticks\":\"\"}}],\"contour\":[{\"type\":\"contour\",\"colorbar\":{\"outlinewidth\":0,\"ticks\":\"\"},\"colorscale\":[[0.0,\"#0d0887\"],[0.1111111111111111,\"#46039f\"],[0.2222222222222222,\"#7201a8\"],[0.3333333333333333,\"#9c179e\"],[0.4444444444444444,\"#bd3786\"],[0.5555555555555556,\"#d8576b\"],[0.6666666666666666,\"#ed7953\"],[0.7777777777777778,\"#fb9f3a\"],[0.8888888888888888,\"#fdca26\"],[1.0,\"#f0f921\"]]}],\"surface\":[{\"type\":\"surface\",\"colorbar\":{\"outlinewidth\":0,\"ticks\":\"\"},\"colorscale\":[[0.0,\"#0d0887\"],[0.1111111111111111,\"#46039f\"],[0.2222222222222222,\"#7201a8\"],[0.3333333333333333,\"#9c179e\"],[0.4444444444444444,\"#bd3786\"],[0.5555555555555556,\"#d8576b\"],[0.6666666666666666,\"#ed7953\"],[0.7777777777777778,\"#fb9f3a\"],[0.8888888888888888,\"#fdca26\"],[1.0,\"#f0f921\"]]}],\"mesh3d\":[{\"type\":\"mesh3d\",\"colorbar\":{\"outlinewidth\":0,\"ticks\":\"\"}}],\"scatter\":[{\"fillpattern\":{\"fillmode\":\"overlay\",\"size\":10,\"solidity\":0.2},\"type\":\"scatter\"}],\"parcoords\":[{\"type\":\"parcoords\",\"line\":{\"colorbar\":{\"outlinewidth\":0,\"ticks\":\"\"}}}],\"scatterpolargl\":[{\"type\":\"scatterpolargl\",\"marker\":{\"colorbar\":{\"outlinewidth\":0,\"ticks\":\"\"}}}],\"bar\":[{\"error_x\":{\"color\":\"#2a3f5f\"},\"error_y\":{\"color\":\"#2a3f5f\"},\"marker\":{\"line\":{\"color\":\"#E5ECF6\",\"width\":0.5},\"pattern\":{\"fillmode\":\"overlay\",\"size\":10,\"solidity\":0.2}},\"type\":\"bar\"}],\"scattergeo\":[{\"type\":\"scattergeo\",\"marker\":{\"colorbar\":{\"outlinewidth\":0,\"ticks\":\"\"}}}],\"scatterpolar\":[{\"type\":\"scatterpolar\",\"marker\":{\"colorbar\":{\"outlinewidth\":0,\"ticks\":\"\"}}}],\"histogram\":[{\"marker\":{\"pattern\":{\"fillmode\":\"overlay\",\"size\":10,\"solidity\":0.2}},\"type\":\"histogram\"}],\"scattergl\":[{\"type\":\"scattergl\",\"marker\":{\"colorbar\":{\"outlinewidth\":0,\"ticks\":\"\"}}}],\"scatter3d\":[{\"type\":\"scatter3d\",\"line\":{\"colorbar\":{\"outlinewidth\":0,\"ticks\":\"\"}},\"marker\":{\"colorbar\":{\"outlinewidth\":0,\"ticks\":\"\"}}}],\"scattermapbox\":[{\"type\":\"scattermapbox\",\"marker\":{\"colorbar\":{\"outlinewidth\":0,\"ticks\":\"\"}}}],\"scatterternary\":[{\"type\":\"scatterternary\",\"marker\":{\"colorbar\":{\"outlinewidth\":0,\"ticks\":\"\"}}}],\"scattercarpet\":[{\"type\":\"scattercarpet\",\"marker\":{\"colorbar\":{\"outlinewidth\":0,\"ticks\":\"\"}}}],\"carpet\":[{\"aaxis\":{\"endlinecolor\":\"#2a3f5f\",\"gridcolor\":\"white\",\"linecolor\":\"white\",\"minorgridcolor\":\"white\",\"startlinecolor\":\"#2a3f5f\"},\"baxis\":{\"endlinecolor\":\"#2a3f5f\",\"gridcolor\":\"white\",\"linecolor\":\"white\",\"minorgridcolor\":\"white\",\"startlinecolor\":\"#2a3f5f\"},\"type\":\"carpet\"}],\"table\":[{\"cells\":{\"fill\":{\"color\":\"#EBF0F8\"},\"line\":{\"color\":\"white\"}},\"header\":{\"fill\":{\"color\":\"#C8D4E3\"},\"line\":{\"color\":\"white\"}},\"type\":\"table\"}],\"barpolar\":[{\"marker\":{\"line\":{\"color\":\"#E5ECF6\",\"width\":0.5},\"pattern\":{\"fillmode\":\"overlay\",\"size\":10,\"solidity\":0.2}},\"type\":\"barpolar\"}],\"pie\":[{\"automargin\":true,\"type\":\"pie\"}]},\"layout\":{\"autotypenumbers\":\"strict\",\"colorway\":[\"#636efa\",\"#EF553B\",\"#00cc96\",\"#ab63fa\",\"#FFA15A\",\"#19d3f3\",\"#FF6692\",\"#B6E880\",\"#FF97FF\",\"#FECB52\"],\"font\":{\"color\":\"#2a3f5f\"},\"hovermode\":\"closest\",\"hoverlabel\":{\"align\":\"left\"},\"paper_bgcolor\":\"white\",\"plot_bgcolor\":\"#E5ECF6\",\"polar\":{\"bgcolor\":\"#E5ECF6\",\"angularaxis\":{\"gridcolor\":\"white\",\"linecolor\":\"white\",\"ticks\":\"\"},\"radialaxis\":{\"gridcolor\":\"white\",\"linecolor\":\"white\",\"ticks\":\"\"}},\"ternary\":{\"bgcolor\":\"#E5ECF6\",\"aaxis\":{\"gridcolor\":\"white\",\"linecolor\":\"white\",\"ticks\":\"\"},\"baxis\":{\"gridcolor\":\"white\",\"linecolor\":\"white\",\"ticks\":\"\"},\"caxis\":{\"gridcolor\":\"white\",\"linecolor\":\"white\",\"ticks\":\"\"}},\"coloraxis\":{\"colorbar\":{\"outlinewidth\":0,\"ticks\":\"\"}},\"colorscale\":{\"sequential\":[[0.0,\"#0d0887\"],[0.1111111111111111,\"#46039f\"],[0.2222222222222222,\"#7201a8\"],[0.3333333333333333,\"#9c179e\"],[0.4444444444444444,\"#bd3786\"],[0.5555555555555556,\"#d8576b\"],[0.6666666666666666,\"#ed7953\"],[0.7777777777777778,\"#fb9f3a\"],[0.8888888888888888,\"#fdca26\"],[1.0,\"#f0f921\"]],\"sequentialminus\":[[0.0,\"#0d0887\"],[0.1111111111111111,\"#46039f\"],[0.2222222222222222,\"#7201a8\"],[0.3333333333333333,\"#9c179e\"],[0.4444444444444444,\"#bd3786\"],[0.5555555555555556,\"#d8576b\"],[0.6666666666666666,\"#ed7953\"],[0.7777777777777778,\"#fb9f3a\"],[0.8888888888888888,\"#fdca26\"],[1.0,\"#f0f921\"]],\"diverging\":[[0,\"#8e0152\"],[0.1,\"#c51b7d\"],[0.2,\"#de77ae\"],[0.3,\"#f1b6da\"],[0.4,\"#fde0ef\"],[0.5,\"#f7f7f7\"],[0.6,\"#e6f5d0\"],[0.7,\"#b8e186\"],[0.8,\"#7fbc41\"],[0.9,\"#4d9221\"],[1,\"#276419\"]]},\"xaxis\":{\"gridcolor\":\"white\",\"linecolor\":\"white\",\"ticks\":\"\",\"title\":{\"standoff\":15},\"zerolinecolor\":\"white\",\"automargin\":true,\"zerolinewidth\":2},\"yaxis\":{\"gridcolor\":\"white\",\"linecolor\":\"white\",\"ticks\":\"\",\"title\":{\"standoff\":15},\"zerolinecolor\":\"white\",\"automargin\":true,\"zerolinewidth\":2},\"scene\":{\"xaxis\":{\"backgroundcolor\":\"#E5ECF6\",\"gridcolor\":\"white\",\"linecolor\":\"white\",\"showbackground\":true,\"ticks\":\"\",\"zerolinecolor\":\"white\",\"gridwidth\":2},\"yaxis\":{\"backgroundcolor\":\"#E5ECF6\",\"gridcolor\":\"white\",\"linecolor\":\"white\",\"showbackground\":true,\"ticks\":\"\",\"zerolinecolor\":\"white\",\"gridwidth\":2},\"zaxis\":{\"backgroundcolor\":\"#E5ECF6\",\"gridcolor\":\"white\",\"linecolor\":\"white\",\"showbackground\":true,\"ticks\":\"\",\"zerolinecolor\":\"white\",\"gridwidth\":2}},\"shapedefaults\":{\"line\":{\"color\":\"#2a3f5f\"}},\"annotationdefaults\":{\"arrowcolor\":\"#2a3f5f\",\"arrowhead\":0,\"arrowwidth\":1},\"geo\":{\"bgcolor\":\"white\",\"landcolor\":\"#E5ECF6\",\"subunitcolor\":\"white\",\"showland\":true,\"showlakes\":true,\"lakecolor\":\"white\"},\"title\":{\"x\":0.05},\"mapbox\":{\"style\":\"light\"}}},\"title\":{\"text\":\"Age Distribution by Attrition Status\"}},                        {\"responsive\": true}                    ).then(function(){\n",
       "                            \n",
       "var gd = document.getElementById('e328fe7e-e431-44c1-9d4b-60b84a44f52a');\n",
       "var x = new MutationObserver(function (mutations, observer) {{\n",
       "        var display = window.getComputedStyle(gd).display;\n",
       "        if (!display || display === 'none') {{\n",
       "            console.log([gd, 'removed!']);\n",
       "            Plotly.purge(gd);\n",
       "            observer.disconnect();\n",
       "        }}\n",
       "}});\n",
       "\n",
       "// Listen for the removal of the full notebook cells\n",
       "var notebookContainer = gd.closest('#notebook-container');\n",
       "if (notebookContainer) {{\n",
       "    x.observe(notebookContainer, {childList: true});\n",
       "}}\n",
       "\n",
       "// Listen for the clearing of the current output cell\n",
       "var outputEl = gd.closest('.output');\n",
       "if (outputEl) {{\n",
       "    x.observe(outputEl, {childList: true});\n",
       "}}\n",
       "\n",
       "                        })                };                });            </script>        </div>"
      ]
     },
     "metadata": {},
     "output_type": "display_data"
    }
   ],
   "source": [
    "# Add histogram data\n",
    "x1 = ibm_df.loc[ibm_df['Attrition'] == 'No', 'Age'].dropna()\n",
    "x2 = ibm_df.loc[ibm_df['Attrition'] == 'Yes', 'Age'].dropna()\n",
    "\n",
    "# Group data together\n",
    "hist_data = [x1, x2]\n",
    "group_labels = ['Active Employees', 'Ex-Employees']\n",
    "colors = ['#1f77b4', '#ff7f0e'] \n",
    "\n",
    "# Create distplot with custom bin_size\n",
    "fig = ff.create_distplot(hist_data, group_labels,\n",
    "                         curve_type='kde',\n",
    "                         show_hist=False,\n",
    "                         show_rug=False)\n",
    "\n",
    "# Plot \n",
    "fig.update_layout(\n",
    "    title='Age Distribution by Attrition Status',\n",
    "    xaxis=dict(\n",
    "        title='Age',\n",
    "        range=[15, 60],\n",
    "        dtick=5\n",
    "    ),\n",
    "    yaxis=dict(\n",
    "        title='Probability Density'\n",
    "    )\n",
    ")\n",
    "\n",
    "fig.show()\n"
   ]
  },
  {
   "cell_type": "code",
   "execution_count": 15,
   "id": "b2529e8c",
   "metadata": {
    "scrolled": false
   },
   "outputs": [
    {
     "data": {
      "application/vnd.plotly.v1+json": {
       "config": {
        "plotlyServerURL": "https://plot.ly"
       },
       "data": [
        {
         "alignmentgroup": "True",
         "hovertemplate": "Field=%{x}<br>% of Leavers=%{y}<br>Label=%{text}<extra></extra>",
         "legendgroup": "",
         "marker": {
          "color": "#636efa",
          "pattern": {
           "shape": ""
          }
         },
         "name": "",
         "offsetgroup": "",
         "orientation": "v",
         "showlegend": false,
         "text": [
          25.93,
          24.24,
          22.01,
          14.69,
          13.58,
          13.41
         ],
         "textposition": "auto",
         "type": "bar",
         "x": [
          "Human Resources",
          "Technical Degree",
          "Marketing",
          "Life Sciences",
          "Medical",
          "Other"
         ],
         "xaxis": "x",
         "y": [
          25.925925925925924,
          24.242424242424242,
          22.0125786163522,
          14.686468646864686,
          13.577586206896552,
          13.414634146341465
         ],
         "yaxis": "y"
        }
       ],
       "layout": {
        "barmode": "relative",
        "legend": {
         "tracegroupgap": 0
        },
        "template": {
         "data": {
          "bar": [
           {
            "error_x": {
             "color": "#2a3f5f"
            },
            "error_y": {
             "color": "#2a3f5f"
            },
            "marker": {
             "line": {
              "color": "#E5ECF6",
              "width": 0.5
             },
             "pattern": {
              "fillmode": "overlay",
              "size": 10,
              "solidity": 0.2
             }
            },
            "type": "bar"
           }
          ],
          "barpolar": [
           {
            "marker": {
             "line": {
              "color": "#E5ECF6",
              "width": 0.5
             },
             "pattern": {
              "fillmode": "overlay",
              "size": 10,
              "solidity": 0.2
             }
            },
            "type": "barpolar"
           }
          ],
          "carpet": [
           {
            "aaxis": {
             "endlinecolor": "#2a3f5f",
             "gridcolor": "white",
             "linecolor": "white",
             "minorgridcolor": "white",
             "startlinecolor": "#2a3f5f"
            },
            "baxis": {
             "endlinecolor": "#2a3f5f",
             "gridcolor": "white",
             "linecolor": "white",
             "minorgridcolor": "white",
             "startlinecolor": "#2a3f5f"
            },
            "type": "carpet"
           }
          ],
          "choropleth": [
           {
            "colorbar": {
             "outlinewidth": 0,
             "ticks": ""
            },
            "type": "choropleth"
           }
          ],
          "contour": [
           {
            "colorbar": {
             "outlinewidth": 0,
             "ticks": ""
            },
            "colorscale": [
             [
              0,
              "#0d0887"
             ],
             [
              0.1111111111111111,
              "#46039f"
             ],
             [
              0.2222222222222222,
              "#7201a8"
             ],
             [
              0.3333333333333333,
              "#9c179e"
             ],
             [
              0.4444444444444444,
              "#bd3786"
             ],
             [
              0.5555555555555556,
              "#d8576b"
             ],
             [
              0.6666666666666666,
              "#ed7953"
             ],
             [
              0.7777777777777778,
              "#fb9f3a"
             ],
             [
              0.8888888888888888,
              "#fdca26"
             ],
             [
              1,
              "#f0f921"
             ]
            ],
            "type": "contour"
           }
          ],
          "contourcarpet": [
           {
            "colorbar": {
             "outlinewidth": 0,
             "ticks": ""
            },
            "type": "contourcarpet"
           }
          ],
          "heatmap": [
           {
            "colorbar": {
             "outlinewidth": 0,
             "ticks": ""
            },
            "colorscale": [
             [
              0,
              "#0d0887"
             ],
             [
              0.1111111111111111,
              "#46039f"
             ],
             [
              0.2222222222222222,
              "#7201a8"
             ],
             [
              0.3333333333333333,
              "#9c179e"
             ],
             [
              0.4444444444444444,
              "#bd3786"
             ],
             [
              0.5555555555555556,
              "#d8576b"
             ],
             [
              0.6666666666666666,
              "#ed7953"
             ],
             [
              0.7777777777777778,
              "#fb9f3a"
             ],
             [
              0.8888888888888888,
              "#fdca26"
             ],
             [
              1,
              "#f0f921"
             ]
            ],
            "type": "heatmap"
           }
          ],
          "heatmapgl": [
           {
            "colorbar": {
             "outlinewidth": 0,
             "ticks": ""
            },
            "colorscale": [
             [
              0,
              "#0d0887"
             ],
             [
              0.1111111111111111,
              "#46039f"
             ],
             [
              0.2222222222222222,
              "#7201a8"
             ],
             [
              0.3333333333333333,
              "#9c179e"
             ],
             [
              0.4444444444444444,
              "#bd3786"
             ],
             [
              0.5555555555555556,
              "#d8576b"
             ],
             [
              0.6666666666666666,
              "#ed7953"
             ],
             [
              0.7777777777777778,
              "#fb9f3a"
             ],
             [
              0.8888888888888888,
              "#fdca26"
             ],
             [
              1,
              "#f0f921"
             ]
            ],
            "type": "heatmapgl"
           }
          ],
          "histogram": [
           {
            "marker": {
             "pattern": {
              "fillmode": "overlay",
              "size": 10,
              "solidity": 0.2
             }
            },
            "type": "histogram"
           }
          ],
          "histogram2d": [
           {
            "colorbar": {
             "outlinewidth": 0,
             "ticks": ""
            },
            "colorscale": [
             [
              0,
              "#0d0887"
             ],
             [
              0.1111111111111111,
              "#46039f"
             ],
             [
              0.2222222222222222,
              "#7201a8"
             ],
             [
              0.3333333333333333,
              "#9c179e"
             ],
             [
              0.4444444444444444,
              "#bd3786"
             ],
             [
              0.5555555555555556,
              "#d8576b"
             ],
             [
              0.6666666666666666,
              "#ed7953"
             ],
             [
              0.7777777777777778,
              "#fb9f3a"
             ],
             [
              0.8888888888888888,
              "#fdca26"
             ],
             [
              1,
              "#f0f921"
             ]
            ],
            "type": "histogram2d"
           }
          ],
          "histogram2dcontour": [
           {
            "colorbar": {
             "outlinewidth": 0,
             "ticks": ""
            },
            "colorscale": [
             [
              0,
              "#0d0887"
             ],
             [
              0.1111111111111111,
              "#46039f"
             ],
             [
              0.2222222222222222,
              "#7201a8"
             ],
             [
              0.3333333333333333,
              "#9c179e"
             ],
             [
              0.4444444444444444,
              "#bd3786"
             ],
             [
              0.5555555555555556,
              "#d8576b"
             ],
             [
              0.6666666666666666,
              "#ed7953"
             ],
             [
              0.7777777777777778,
              "#fb9f3a"
             ],
             [
              0.8888888888888888,
              "#fdca26"
             ],
             [
              1,
              "#f0f921"
             ]
            ],
            "type": "histogram2dcontour"
           }
          ],
          "mesh3d": [
           {
            "colorbar": {
             "outlinewidth": 0,
             "ticks": ""
            },
            "type": "mesh3d"
           }
          ],
          "parcoords": [
           {
            "line": {
             "colorbar": {
              "outlinewidth": 0,
              "ticks": ""
             }
            },
            "type": "parcoords"
           }
          ],
          "pie": [
           {
            "automargin": true,
            "type": "pie"
           }
          ],
          "scatter": [
           {
            "fillpattern": {
             "fillmode": "overlay",
             "size": 10,
             "solidity": 0.2
            },
            "type": "scatter"
           }
          ],
          "scatter3d": [
           {
            "line": {
             "colorbar": {
              "outlinewidth": 0,
              "ticks": ""
             }
            },
            "marker": {
             "colorbar": {
              "outlinewidth": 0,
              "ticks": ""
             }
            },
            "type": "scatter3d"
           }
          ],
          "scattercarpet": [
           {
            "marker": {
             "colorbar": {
              "outlinewidth": 0,
              "ticks": ""
             }
            },
            "type": "scattercarpet"
           }
          ],
          "scattergeo": [
           {
            "marker": {
             "colorbar": {
              "outlinewidth": 0,
              "ticks": ""
             }
            },
            "type": "scattergeo"
           }
          ],
          "scattergl": [
           {
            "marker": {
             "colorbar": {
              "outlinewidth": 0,
              "ticks": ""
             }
            },
            "type": "scattergl"
           }
          ],
          "scattermapbox": [
           {
            "marker": {
             "colorbar": {
              "outlinewidth": 0,
              "ticks": ""
             }
            },
            "type": "scattermapbox"
           }
          ],
          "scatterpolar": [
           {
            "marker": {
             "colorbar": {
              "outlinewidth": 0,
              "ticks": ""
             }
            },
            "type": "scatterpolar"
           }
          ],
          "scatterpolargl": [
           {
            "marker": {
             "colorbar": {
              "outlinewidth": 0,
              "ticks": ""
             }
            },
            "type": "scatterpolargl"
           }
          ],
          "scatterternary": [
           {
            "marker": {
             "colorbar": {
              "outlinewidth": 0,
              "ticks": ""
             }
            },
            "type": "scatterternary"
           }
          ],
          "surface": [
           {
            "colorbar": {
             "outlinewidth": 0,
             "ticks": ""
            },
            "colorscale": [
             [
              0,
              "#0d0887"
             ],
             [
              0.1111111111111111,
              "#46039f"
             ],
             [
              0.2222222222222222,
              "#7201a8"
             ],
             [
              0.3333333333333333,
              "#9c179e"
             ],
             [
              0.4444444444444444,
              "#bd3786"
             ],
             [
              0.5555555555555556,
              "#d8576b"
             ],
             [
              0.6666666666666666,
              "#ed7953"
             ],
             [
              0.7777777777777778,
              "#fb9f3a"
             ],
             [
              0.8888888888888888,
              "#fdca26"
             ],
             [
              1,
              "#f0f921"
             ]
            ],
            "type": "surface"
           }
          ],
          "table": [
           {
            "cells": {
             "fill": {
              "color": "#EBF0F8"
             },
             "line": {
              "color": "white"
             }
            },
            "header": {
             "fill": {
              "color": "#C8D4E3"
             },
             "line": {
              "color": "white"
             }
            },
            "type": "table"
           }
          ]
         },
         "layout": {
          "annotationdefaults": {
           "arrowcolor": "#2a3f5f",
           "arrowhead": 0,
           "arrowwidth": 1
          },
          "autotypenumbers": "strict",
          "coloraxis": {
           "colorbar": {
            "outlinewidth": 0,
            "ticks": ""
           }
          },
          "colorscale": {
           "diverging": [
            [
             0,
             "#8e0152"
            ],
            [
             0.1,
             "#c51b7d"
            ],
            [
             0.2,
             "#de77ae"
            ],
            [
             0.3,
             "#f1b6da"
            ],
            [
             0.4,
             "#fde0ef"
            ],
            [
             0.5,
             "#f7f7f7"
            ],
            [
             0.6,
             "#e6f5d0"
            ],
            [
             0.7,
             "#b8e186"
            ],
            [
             0.8,
             "#7fbc41"
            ],
            [
             0.9,
             "#4d9221"
            ],
            [
             1,
             "#276419"
            ]
           ],
           "sequential": [
            [
             0,
             "#0d0887"
            ],
            [
             0.1111111111111111,
             "#46039f"
            ],
            [
             0.2222222222222222,
             "#7201a8"
            ],
            [
             0.3333333333333333,
             "#9c179e"
            ],
            [
             0.4444444444444444,
             "#bd3786"
            ],
            [
             0.5555555555555556,
             "#d8576b"
            ],
            [
             0.6666666666666666,
             "#ed7953"
            ],
            [
             0.7777777777777778,
             "#fb9f3a"
            ],
            [
             0.8888888888888888,
             "#fdca26"
            ],
            [
             1,
             "#f0f921"
            ]
           ],
           "sequentialminus": [
            [
             0,
             "#0d0887"
            ],
            [
             0.1111111111111111,
             "#46039f"
            ],
            [
             0.2222222222222222,
             "#7201a8"
            ],
            [
             0.3333333333333333,
             "#9c179e"
            ],
            [
             0.4444444444444444,
             "#bd3786"
            ],
            [
             0.5555555555555556,
             "#d8576b"
            ],
            [
             0.6666666666666666,
             "#ed7953"
            ],
            [
             0.7777777777777778,
             "#fb9f3a"
            ],
            [
             0.8888888888888888,
             "#fdca26"
            ],
            [
             1,
             "#f0f921"
            ]
           ]
          },
          "colorway": [
           "#636efa",
           "#EF553B",
           "#00cc96",
           "#ab63fa",
           "#FFA15A",
           "#19d3f3",
           "#FF6692",
           "#B6E880",
           "#FF97FF",
           "#FECB52"
          ],
          "font": {
           "color": "#2a3f5f"
          },
          "geo": {
           "bgcolor": "white",
           "lakecolor": "white",
           "landcolor": "#E5ECF6",
           "showlakes": true,
           "showland": true,
           "subunitcolor": "white"
          },
          "hoverlabel": {
           "align": "left"
          },
          "hovermode": "closest",
          "mapbox": {
           "style": "light"
          },
          "paper_bgcolor": "white",
          "plot_bgcolor": "#E5ECF6",
          "polar": {
           "angularaxis": {
            "gridcolor": "white",
            "linecolor": "white",
            "ticks": ""
           },
           "bgcolor": "#E5ECF6",
           "radialaxis": {
            "gridcolor": "white",
            "linecolor": "white",
            "ticks": ""
           }
          },
          "scene": {
           "xaxis": {
            "backgroundcolor": "#E5ECF6",
            "gridcolor": "white",
            "gridwidth": 2,
            "linecolor": "white",
            "showbackground": true,
            "ticks": "",
            "zerolinecolor": "white"
           },
           "yaxis": {
            "backgroundcolor": "#E5ECF6",
            "gridcolor": "white",
            "gridwidth": 2,
            "linecolor": "white",
            "showbackground": true,
            "ticks": "",
            "zerolinecolor": "white"
           },
           "zaxis": {
            "backgroundcolor": "#E5ECF6",
            "gridcolor": "white",
            "gridwidth": 2,
            "linecolor": "white",
            "showbackground": true,
            "ticks": "",
            "zerolinecolor": "white"
           }
          },
          "shapedefaults": {
           "line": {
            "color": "#2a3f5f"
           }
          },
          "ternary": {
           "aaxis": {
            "gridcolor": "white",
            "linecolor": "white",
            "ticks": ""
           },
           "baxis": {
            "gridcolor": "white",
            "linecolor": "white",
            "ticks": ""
           },
           "bgcolor": "#E5ECF6",
           "caxis": {
            "gridcolor": "white",
            "linecolor": "white",
            "ticks": ""
           }
          },
          "title": {
           "x": 0.05
          },
          "xaxis": {
           "automargin": true,
           "gridcolor": "white",
           "linecolor": "white",
           "ticks": "",
           "title": {
            "standoff": 15
           },
           "zerolinecolor": "white",
           "zerolinewidth": 2
          },
          "yaxis": {
           "automargin": true,
           "gridcolor": "white",
           "linecolor": "white",
           "ticks": "",
           "title": {
            "standoff": 15
           },
           "zerolinecolor": "white",
           "zerolinewidth": 2
          }
         }
        },
        "title": {
         "text": "Leavers by Education Field (%)"
        },
        "xaxis": {
         "anchor": "y",
         "domain": [
          0,
          1
         ],
         "tickangle": -45,
         "title": {
          "text": "Education Field"
         }
        },
        "yaxis": {
         "anchor": "x",
         "domain": [
          0,
          1
         ],
         "title": {
          "text": "Percentage of Leavers"
         }
        }
       }
      },
      "text/html": [
       "<div>                            <div id=\"379b6cc8-dbc7-4c01-9bde-254750c2ae28\" class=\"plotly-graph-div\" style=\"height:525px; width:100%;\"></div>            <script type=\"text/javascript\">                require([\"plotly\"], function(Plotly) {                    window.PLOTLYENV=window.PLOTLYENV || {};                                    if (document.getElementById(\"379b6cc8-dbc7-4c01-9bde-254750c2ae28\")) {                    Plotly.newPlot(                        \"379b6cc8-dbc7-4c01-9bde-254750c2ae28\",                        [{\"alignmentgroup\":\"True\",\"hovertemplate\":\"Field=%{x}<br>% of Leavers=%{y}<br>Label=%{text}<extra></extra>\",\"legendgroup\":\"\",\"marker\":{\"color\":\"#636efa\",\"pattern\":{\"shape\":\"\"}},\"name\":\"\",\"offsetgroup\":\"\",\"orientation\":\"v\",\"showlegend\":false,\"text\":[25.93,24.24,22.01,14.69,13.58,13.41],\"textposition\":\"auto\",\"x\":[\"Human Resources\",\"Technical Degree\",\"Marketing\",\"Life Sciences\",\"Medical\",\"Other\"],\"xaxis\":\"x\",\"y\":[25.925925925925924,24.242424242424242,22.0125786163522,14.686468646864686,13.577586206896552,13.414634146341465],\"yaxis\":\"y\",\"type\":\"bar\"}],                        {\"template\":{\"data\":{\"histogram2dcontour\":[{\"type\":\"histogram2dcontour\",\"colorbar\":{\"outlinewidth\":0,\"ticks\":\"\"},\"colorscale\":[[0.0,\"#0d0887\"],[0.1111111111111111,\"#46039f\"],[0.2222222222222222,\"#7201a8\"],[0.3333333333333333,\"#9c179e\"],[0.4444444444444444,\"#bd3786\"],[0.5555555555555556,\"#d8576b\"],[0.6666666666666666,\"#ed7953\"],[0.7777777777777778,\"#fb9f3a\"],[0.8888888888888888,\"#fdca26\"],[1.0,\"#f0f921\"]]}],\"choropleth\":[{\"type\":\"choropleth\",\"colorbar\":{\"outlinewidth\":0,\"ticks\":\"\"}}],\"histogram2d\":[{\"type\":\"histogram2d\",\"colorbar\":{\"outlinewidth\":0,\"ticks\":\"\"},\"colorscale\":[[0.0,\"#0d0887\"],[0.1111111111111111,\"#46039f\"],[0.2222222222222222,\"#7201a8\"],[0.3333333333333333,\"#9c179e\"],[0.4444444444444444,\"#bd3786\"],[0.5555555555555556,\"#d8576b\"],[0.6666666666666666,\"#ed7953\"],[0.7777777777777778,\"#fb9f3a\"],[0.8888888888888888,\"#fdca26\"],[1.0,\"#f0f921\"]]}],\"heatmap\":[{\"type\":\"heatmap\",\"colorbar\":{\"outlinewidth\":0,\"ticks\":\"\"},\"colorscale\":[[0.0,\"#0d0887\"],[0.1111111111111111,\"#46039f\"],[0.2222222222222222,\"#7201a8\"],[0.3333333333333333,\"#9c179e\"],[0.4444444444444444,\"#bd3786\"],[0.5555555555555556,\"#d8576b\"],[0.6666666666666666,\"#ed7953\"],[0.7777777777777778,\"#fb9f3a\"],[0.8888888888888888,\"#fdca26\"],[1.0,\"#f0f921\"]]}],\"heatmapgl\":[{\"type\":\"heatmapgl\",\"colorbar\":{\"outlinewidth\":0,\"ticks\":\"\"},\"colorscale\":[[0.0,\"#0d0887\"],[0.1111111111111111,\"#46039f\"],[0.2222222222222222,\"#7201a8\"],[0.3333333333333333,\"#9c179e\"],[0.4444444444444444,\"#bd3786\"],[0.5555555555555556,\"#d8576b\"],[0.6666666666666666,\"#ed7953\"],[0.7777777777777778,\"#fb9f3a\"],[0.8888888888888888,\"#fdca26\"],[1.0,\"#f0f921\"]]}],\"contourcarpet\":[{\"type\":\"contourcarpet\",\"colorbar\":{\"outlinewidth\":0,\"ticks\":\"\"}}],\"contour\":[{\"type\":\"contour\",\"colorbar\":{\"outlinewidth\":0,\"ticks\":\"\"},\"colorscale\":[[0.0,\"#0d0887\"],[0.1111111111111111,\"#46039f\"],[0.2222222222222222,\"#7201a8\"],[0.3333333333333333,\"#9c179e\"],[0.4444444444444444,\"#bd3786\"],[0.5555555555555556,\"#d8576b\"],[0.6666666666666666,\"#ed7953\"],[0.7777777777777778,\"#fb9f3a\"],[0.8888888888888888,\"#fdca26\"],[1.0,\"#f0f921\"]]}],\"surface\":[{\"type\":\"surface\",\"colorbar\":{\"outlinewidth\":0,\"ticks\":\"\"},\"colorscale\":[[0.0,\"#0d0887\"],[0.1111111111111111,\"#46039f\"],[0.2222222222222222,\"#7201a8\"],[0.3333333333333333,\"#9c179e\"],[0.4444444444444444,\"#bd3786\"],[0.5555555555555556,\"#d8576b\"],[0.6666666666666666,\"#ed7953\"],[0.7777777777777778,\"#fb9f3a\"],[0.8888888888888888,\"#fdca26\"],[1.0,\"#f0f921\"]]}],\"mesh3d\":[{\"type\":\"mesh3d\",\"colorbar\":{\"outlinewidth\":0,\"ticks\":\"\"}}],\"scatter\":[{\"fillpattern\":{\"fillmode\":\"overlay\",\"size\":10,\"solidity\":0.2},\"type\":\"scatter\"}],\"parcoords\":[{\"type\":\"parcoords\",\"line\":{\"colorbar\":{\"outlinewidth\":0,\"ticks\":\"\"}}}],\"scatterpolargl\":[{\"type\":\"scatterpolargl\",\"marker\":{\"colorbar\":{\"outlinewidth\":0,\"ticks\":\"\"}}}],\"bar\":[{\"error_x\":{\"color\":\"#2a3f5f\"},\"error_y\":{\"color\":\"#2a3f5f\"},\"marker\":{\"line\":{\"color\":\"#E5ECF6\",\"width\":0.5},\"pattern\":{\"fillmode\":\"overlay\",\"size\":10,\"solidity\":0.2}},\"type\":\"bar\"}],\"scattergeo\":[{\"type\":\"scattergeo\",\"marker\":{\"colorbar\":{\"outlinewidth\":0,\"ticks\":\"\"}}}],\"scatterpolar\":[{\"type\":\"scatterpolar\",\"marker\":{\"colorbar\":{\"outlinewidth\":0,\"ticks\":\"\"}}}],\"histogram\":[{\"marker\":{\"pattern\":{\"fillmode\":\"overlay\",\"size\":10,\"solidity\":0.2}},\"type\":\"histogram\"}],\"scattergl\":[{\"type\":\"scattergl\",\"marker\":{\"colorbar\":{\"outlinewidth\":0,\"ticks\":\"\"}}}],\"scatter3d\":[{\"type\":\"scatter3d\",\"line\":{\"colorbar\":{\"outlinewidth\":0,\"ticks\":\"\"}},\"marker\":{\"colorbar\":{\"outlinewidth\":0,\"ticks\":\"\"}}}],\"scattermapbox\":[{\"type\":\"scattermapbox\",\"marker\":{\"colorbar\":{\"outlinewidth\":0,\"ticks\":\"\"}}}],\"scatterternary\":[{\"type\":\"scatterternary\",\"marker\":{\"colorbar\":{\"outlinewidth\":0,\"ticks\":\"\"}}}],\"scattercarpet\":[{\"type\":\"scattercarpet\",\"marker\":{\"colorbar\":{\"outlinewidth\":0,\"ticks\":\"\"}}}],\"carpet\":[{\"aaxis\":{\"endlinecolor\":\"#2a3f5f\",\"gridcolor\":\"white\",\"linecolor\":\"white\",\"minorgridcolor\":\"white\",\"startlinecolor\":\"#2a3f5f\"},\"baxis\":{\"endlinecolor\":\"#2a3f5f\",\"gridcolor\":\"white\",\"linecolor\":\"white\",\"minorgridcolor\":\"white\",\"startlinecolor\":\"#2a3f5f\"},\"type\":\"carpet\"}],\"table\":[{\"cells\":{\"fill\":{\"color\":\"#EBF0F8\"},\"line\":{\"color\":\"white\"}},\"header\":{\"fill\":{\"color\":\"#C8D4E3\"},\"line\":{\"color\":\"white\"}},\"type\":\"table\"}],\"barpolar\":[{\"marker\":{\"line\":{\"color\":\"#E5ECF6\",\"width\":0.5},\"pattern\":{\"fillmode\":\"overlay\",\"size\":10,\"solidity\":0.2}},\"type\":\"barpolar\"}],\"pie\":[{\"automargin\":true,\"type\":\"pie\"}]},\"layout\":{\"autotypenumbers\":\"strict\",\"colorway\":[\"#636efa\",\"#EF553B\",\"#00cc96\",\"#ab63fa\",\"#FFA15A\",\"#19d3f3\",\"#FF6692\",\"#B6E880\",\"#FF97FF\",\"#FECB52\"],\"font\":{\"color\":\"#2a3f5f\"},\"hovermode\":\"closest\",\"hoverlabel\":{\"align\":\"left\"},\"paper_bgcolor\":\"white\",\"plot_bgcolor\":\"#E5ECF6\",\"polar\":{\"bgcolor\":\"#E5ECF6\",\"angularaxis\":{\"gridcolor\":\"white\",\"linecolor\":\"white\",\"ticks\":\"\"},\"radialaxis\":{\"gridcolor\":\"white\",\"linecolor\":\"white\",\"ticks\":\"\"}},\"ternary\":{\"bgcolor\":\"#E5ECF6\",\"aaxis\":{\"gridcolor\":\"white\",\"linecolor\":\"white\",\"ticks\":\"\"},\"baxis\":{\"gridcolor\":\"white\",\"linecolor\":\"white\",\"ticks\":\"\"},\"caxis\":{\"gridcolor\":\"white\",\"linecolor\":\"white\",\"ticks\":\"\"}},\"coloraxis\":{\"colorbar\":{\"outlinewidth\":0,\"ticks\":\"\"}},\"colorscale\":{\"sequential\":[[0.0,\"#0d0887\"],[0.1111111111111111,\"#46039f\"],[0.2222222222222222,\"#7201a8\"],[0.3333333333333333,\"#9c179e\"],[0.4444444444444444,\"#bd3786\"],[0.5555555555555556,\"#d8576b\"],[0.6666666666666666,\"#ed7953\"],[0.7777777777777778,\"#fb9f3a\"],[0.8888888888888888,\"#fdca26\"],[1.0,\"#f0f921\"]],\"sequentialminus\":[[0.0,\"#0d0887\"],[0.1111111111111111,\"#46039f\"],[0.2222222222222222,\"#7201a8\"],[0.3333333333333333,\"#9c179e\"],[0.4444444444444444,\"#bd3786\"],[0.5555555555555556,\"#d8576b\"],[0.6666666666666666,\"#ed7953\"],[0.7777777777777778,\"#fb9f3a\"],[0.8888888888888888,\"#fdca26\"],[1.0,\"#f0f921\"]],\"diverging\":[[0,\"#8e0152\"],[0.1,\"#c51b7d\"],[0.2,\"#de77ae\"],[0.3,\"#f1b6da\"],[0.4,\"#fde0ef\"],[0.5,\"#f7f7f7\"],[0.6,\"#e6f5d0\"],[0.7,\"#b8e186\"],[0.8,\"#7fbc41\"],[0.9,\"#4d9221\"],[1,\"#276419\"]]},\"xaxis\":{\"gridcolor\":\"white\",\"linecolor\":\"white\",\"ticks\":\"\",\"title\":{\"standoff\":15},\"zerolinecolor\":\"white\",\"automargin\":true,\"zerolinewidth\":2},\"yaxis\":{\"gridcolor\":\"white\",\"linecolor\":\"white\",\"ticks\":\"\",\"title\":{\"standoff\":15},\"zerolinecolor\":\"white\",\"automargin\":true,\"zerolinewidth\":2},\"scene\":{\"xaxis\":{\"backgroundcolor\":\"#E5ECF6\",\"gridcolor\":\"white\",\"linecolor\":\"white\",\"showbackground\":true,\"ticks\":\"\",\"zerolinecolor\":\"white\",\"gridwidth\":2},\"yaxis\":{\"backgroundcolor\":\"#E5ECF6\",\"gridcolor\":\"white\",\"linecolor\":\"white\",\"showbackground\":true,\"ticks\":\"\",\"zerolinecolor\":\"white\",\"gridwidth\":2},\"zaxis\":{\"backgroundcolor\":\"#E5ECF6\",\"gridcolor\":\"white\",\"linecolor\":\"white\",\"showbackground\":true,\"ticks\":\"\",\"zerolinecolor\":\"white\",\"gridwidth\":2}},\"shapedefaults\":{\"line\":{\"color\":\"#2a3f5f\"}},\"annotationdefaults\":{\"arrowcolor\":\"#2a3f5f\",\"arrowhead\":0,\"arrowwidth\":1},\"geo\":{\"bgcolor\":\"white\",\"landcolor\":\"#E5ECF6\",\"subunitcolor\":\"white\",\"showland\":true,\"showlakes\":true,\"lakecolor\":\"white\"},\"title\":{\"x\":0.05},\"mapbox\":{\"style\":\"light\"}}},\"xaxis\":{\"anchor\":\"y\",\"domain\":[0.0,1.0],\"title\":{\"text\":\"Education Field\"},\"tickangle\":-45},\"yaxis\":{\"anchor\":\"x\",\"domain\":[0.0,1.0],\"title\":{\"text\":\"Percentage of Leavers\"}},\"legend\":{\"tracegroupgap\":0},\"title\":{\"text\":\"Leavers by Education Field (%)\"},\"barmode\":\"relative\"},                        {\"responsive\": true}                    ).then(function(){\n",
       "                            \n",
       "var gd = document.getElementById('379b6cc8-dbc7-4c01-9bde-254750c2ae28');\n",
       "var x = new MutationObserver(function (mutations, observer) {{\n",
       "        var display = window.getComputedStyle(gd).display;\n",
       "        if (!display || display === 'none') {{\n",
       "            console.log([gd, 'removed!']);\n",
       "            Plotly.purge(gd);\n",
       "            observer.disconnect();\n",
       "        }}\n",
       "}});\n",
       "\n",
       "// Listen for the removal of the full notebook cells\n",
       "var notebookContainer = gd.closest('#notebook-container');\n",
       "if (notebookContainer) {{\n",
       "    x.observe(notebookContainer, {childList: true});\n",
       "}}\n",
       "\n",
       "// Listen for the clearing of the current output cell\n",
       "var outputEl = gd.closest('.output');\n",
       "if (outputEl) {{\n",
       "    x.observe(outputEl, {childList: true});\n",
       "}}\n",
       "\n",
       "                        })                };                });            </script>        </div>"
      ]
     },
     "metadata": {},
     "output_type": "display_data"
    }
   ],
   "source": [
    "import pandas as pd\n",
    "import plotly.express as px\n",
    "\n",
    "# Calculate % of leavers by education field\n",
    "df_EducationField = pd.DataFrame(columns=[\"Field\", \"% of Leavers\"])\n",
    "\n",
    "for field in ibm_df['EducationField'].unique():\n",
    "    total = ibm_df[ibm_df['EducationField'] == field].shape[0]\n",
    "    leavers = ibm_df[(ibm_df['EducationField'] == field) & (ibm_df['Attrition'] == \"Yes\")].shape[0]\n",
    "    ratio = (leavers / total) * 100\n",
    "    df_EducationField.loc[len(df_EducationField)] = [field, ratio]\n",
    "\n",
    "df_EducationField[\"% of Leavers\"] = df_EducationField[\"% of Leavers\"].astype(float)\n",
    "df_EducationField[\"Label\"] = df_EducationField[\"% of Leavers\"].round(2)\n",
    "\n",
    "# Sort by percentage\n",
    "df_EducationField = df_EducationField.sort_values(by=\"% of Leavers\", ascending=False)\n",
    "\n",
    "# Plot\n",
    "fig = px.bar(\n",
    "    df_EducationField,\n",
    "    x=\"Field\",\n",
    "    y=\"% of Leavers\",\n",
    "    title=\"Leavers by Education Field (%)\",\n",
    "    text=\"Label\"\n",
    ")\n",
    "\n",
    "fig.update_layout(\n",
    "    xaxis_title=\"Education Field\",\n",
    "    yaxis_title=\"Percentage of Leavers\",\n",
    "    xaxis_tickangle=-45\n",
    ")\n",
    "\n",
    "fig.show()\n"
   ]
  },
  {
   "cell_type": "code",
   "execution_count": 6,
   "id": "aa50924b",
   "metadata": {
    "scrolled": true
   },
   "outputs": [
    {
     "data": {
      "text/html": [
       "<div>\n",
       "<style scoped>\n",
       "    .dataframe tbody tr th:only-of-type {\n",
       "        vertical-align: middle;\n",
       "    }\n",
       "\n",
       "    .dataframe tbody tr th {\n",
       "        vertical-align: top;\n",
       "    }\n",
       "\n",
       "    .dataframe thead th {\n",
       "        text-align: right;\n",
       "    }\n",
       "</style>\n",
       "<table border=\"1\" class=\"dataframe\">\n",
       "  <thead>\n",
       "    <tr style=\"text-align: right;\">\n",
       "      <th>Age</th>\n",
       "      <th>18</th>\n",
       "      <th>19</th>\n",
       "      <th>20</th>\n",
       "      <th>21</th>\n",
       "      <th>22</th>\n",
       "      <th>23</th>\n",
       "      <th>24</th>\n",
       "      <th>25</th>\n",
       "      <th>26</th>\n",
       "      <th>27</th>\n",
       "      <th>...</th>\n",
       "      <th>51</th>\n",
       "      <th>52</th>\n",
       "      <th>53</th>\n",
       "      <th>54</th>\n",
       "      <th>55</th>\n",
       "      <th>56</th>\n",
       "      <th>57</th>\n",
       "      <th>58</th>\n",
       "      <th>59</th>\n",
       "      <th>60</th>\n",
       "    </tr>\n",
       "    <tr>\n",
       "      <th>Attrition</th>\n",
       "      <th></th>\n",
       "      <th></th>\n",
       "      <th></th>\n",
       "      <th></th>\n",
       "      <th></th>\n",
       "      <th></th>\n",
       "      <th></th>\n",
       "      <th></th>\n",
       "      <th></th>\n",
       "      <th></th>\n",
       "      <th></th>\n",
       "      <th></th>\n",
       "      <th></th>\n",
       "      <th></th>\n",
       "      <th></th>\n",
       "      <th></th>\n",
       "      <th></th>\n",
       "      <th></th>\n",
       "      <th></th>\n",
       "      <th></th>\n",
       "      <th></th>\n",
       "    </tr>\n",
       "  </thead>\n",
       "  <tbody>\n",
       "    <tr>\n",
       "      <th>No</th>\n",
       "      <td>4</td>\n",
       "      <td>3</td>\n",
       "      <td>5</td>\n",
       "      <td>7</td>\n",
       "      <td>11</td>\n",
       "      <td>10</td>\n",
       "      <td>19</td>\n",
       "      <td>20</td>\n",
       "      <td>27</td>\n",
       "      <td>45</td>\n",
       "      <td>...</td>\n",
       "      <td>17</td>\n",
       "      <td>15</td>\n",
       "      <td>17</td>\n",
       "      <td>18</td>\n",
       "      <td>19</td>\n",
       "      <td>11</td>\n",
       "      <td>4</td>\n",
       "      <td>9</td>\n",
       "      <td>10</td>\n",
       "      <td>5</td>\n",
       "    </tr>\n",
       "    <tr>\n",
       "      <th>Yes</th>\n",
       "      <td>4</td>\n",
       "      <td>6</td>\n",
       "      <td>6</td>\n",
       "      <td>6</td>\n",
       "      <td>5</td>\n",
       "      <td>4</td>\n",
       "      <td>7</td>\n",
       "      <td>6</td>\n",
       "      <td>12</td>\n",
       "      <td>3</td>\n",
       "      <td>...</td>\n",
       "      <td>2</td>\n",
       "      <td>3</td>\n",
       "      <td>2</td>\n",
       "      <td>0</td>\n",
       "      <td>3</td>\n",
       "      <td>3</td>\n",
       "      <td>0</td>\n",
       "      <td>5</td>\n",
       "      <td>0</td>\n",
       "      <td>0</td>\n",
       "    </tr>\n",
       "  </tbody>\n",
       "</table>\n",
       "<p>2 rows × 43 columns</p>\n",
       "</div>"
      ],
      "text/plain": [
       "Age        18  19  20  21  22  23  24  25  26  27  ...  51  52  53  54  55  \\\n",
       "Attrition                                          ...                       \n",
       "No          4   3   5   7  11  10  19  20  27  45  ...  17  15  17  18  19   \n",
       "Yes         4   6   6   6   5   4   7   6  12   3  ...   2   3   2   0   3   \n",
       "\n",
       "Age        56  57  58  59  60  \n",
       "Attrition                      \n",
       "No         11   4   9  10   5  \n",
       "Yes         3   0   5   0   0  \n",
       "\n",
       "[2 rows x 43 columns]"
      ]
     },
     "execution_count": 6,
     "metadata": {},
     "output_type": "execute_result"
    }
   ],
   "source": [
    "pd.crosstab(ibm_df['Attrition'], ibm_df['Age'])."
   ]
  },
  {
   "cell_type": "code",
   "execution_count": 20,
   "id": "d72b0687",
   "metadata": {},
   "outputs": [
    {
     "data": {
      "text/html": [
       "<div>\n",
       "<style scoped>\n",
       "    .dataframe tbody tr th:only-of-type {\n",
       "        vertical-align: middle;\n",
       "    }\n",
       "\n",
       "    .dataframe tbody tr th {\n",
       "        vertical-align: top;\n",
       "    }\n",
       "\n",
       "    .dataframe thead th {\n",
       "        text-align: right;\n",
       "    }\n",
       "</style>\n",
       "<table border=\"1\" class=\"dataframe\">\n",
       "  <thead>\n",
       "    <tr style=\"text-align: right;\">\n",
       "      <th></th>\n",
       "      <th>Age</th>\n",
       "      <th>DailyRate</th>\n",
       "      <th>DistanceFromHome</th>\n",
       "      <th>Education</th>\n",
       "      <th>EmployeeCount</th>\n",
       "      <th>EmployeeNumber</th>\n",
       "      <th>EnvironmentSatisfaction</th>\n",
       "      <th>HourlyRate</th>\n",
       "      <th>JobInvolvement</th>\n",
       "      <th>JobLevel</th>\n",
       "      <th>...</th>\n",
       "      <th>RelationshipSatisfaction</th>\n",
       "      <th>StandardHours</th>\n",
       "      <th>StockOptionLevel</th>\n",
       "      <th>TotalWorkingYears</th>\n",
       "      <th>TrainingTimesLastYear</th>\n",
       "      <th>WorkLifeBalance</th>\n",
       "      <th>YearsAtCompany</th>\n",
       "      <th>YearsInCurrentRole</th>\n",
       "      <th>YearsSinceLastPromotion</th>\n",
       "      <th>YearsWithCurrManager</th>\n",
       "    </tr>\n",
       "    <tr>\n",
       "      <th>Attrition</th>\n",
       "      <th></th>\n",
       "      <th></th>\n",
       "      <th></th>\n",
       "      <th></th>\n",
       "      <th></th>\n",
       "      <th></th>\n",
       "      <th></th>\n",
       "      <th></th>\n",
       "      <th></th>\n",
       "      <th></th>\n",
       "      <th></th>\n",
       "      <th></th>\n",
       "      <th></th>\n",
       "      <th></th>\n",
       "      <th></th>\n",
       "      <th></th>\n",
       "      <th></th>\n",
       "      <th></th>\n",
       "      <th></th>\n",
       "      <th></th>\n",
       "      <th></th>\n",
       "    </tr>\n",
       "  </thead>\n",
       "  <tbody>\n",
       "    <tr>\n",
       "      <th>No</th>\n",
       "      <td>37.561233</td>\n",
       "      <td>812.504461</td>\n",
       "      <td>8.915653</td>\n",
       "      <td>2.927007</td>\n",
       "      <td>1.0</td>\n",
       "      <td>1027.656123</td>\n",
       "      <td>2.771290</td>\n",
       "      <td>65.952149</td>\n",
       "      <td>2.770479</td>\n",
       "      <td>2.145985</td>\n",
       "      <td>...</td>\n",
       "      <td>2.733982</td>\n",
       "      <td>80.0</td>\n",
       "      <td>0.845093</td>\n",
       "      <td>11.862936</td>\n",
       "      <td>2.832928</td>\n",
       "      <td>2.781022</td>\n",
       "      <td>7.369019</td>\n",
       "      <td>4.484185</td>\n",
       "      <td>2.234388</td>\n",
       "      <td>4.367397</td>\n",
       "    </tr>\n",
       "    <tr>\n",
       "      <th>Yes</th>\n",
       "      <td>33.607595</td>\n",
       "      <td>750.362869</td>\n",
       "      <td>10.632911</td>\n",
       "      <td>2.839662</td>\n",
       "      <td>1.0</td>\n",
       "      <td>1010.345992</td>\n",
       "      <td>2.464135</td>\n",
       "      <td>65.573840</td>\n",
       "      <td>2.518987</td>\n",
       "      <td>1.637131</td>\n",
       "      <td>...</td>\n",
       "      <td>2.599156</td>\n",
       "      <td>80.0</td>\n",
       "      <td>0.527426</td>\n",
       "      <td>8.244726</td>\n",
       "      <td>2.624473</td>\n",
       "      <td>2.658228</td>\n",
       "      <td>5.130802</td>\n",
       "      <td>2.902954</td>\n",
       "      <td>1.945148</td>\n",
       "      <td>2.852321</td>\n",
       "    </tr>\n",
       "  </tbody>\n",
       "</table>\n",
       "<p>2 rows × 26 columns</p>\n",
       "</div>"
      ],
      "text/plain": [
       "                 Age   DailyRate  DistanceFromHome  Education  EmployeeCount  \\\n",
       "Attrition                                                                      \n",
       "No         37.561233  812.504461          8.915653   2.927007            1.0   \n",
       "Yes        33.607595  750.362869         10.632911   2.839662            1.0   \n",
       "\n",
       "           EmployeeNumber  EnvironmentSatisfaction  HourlyRate  \\\n",
       "Attrition                                                        \n",
       "No            1027.656123                 2.771290   65.952149   \n",
       "Yes           1010.345992                 2.464135   65.573840   \n",
       "\n",
       "           JobInvolvement  JobLevel  ...  RelationshipSatisfaction  \\\n",
       "Attrition                            ...                             \n",
       "No               2.770479  2.145985  ...                  2.733982   \n",
       "Yes              2.518987  1.637131  ...                  2.599156   \n",
       "\n",
       "           StandardHours  StockOptionLevel  TotalWorkingYears  \\\n",
       "Attrition                                                       \n",
       "No                  80.0          0.845093          11.862936   \n",
       "Yes                 80.0          0.527426           8.244726   \n",
       "\n",
       "           TrainingTimesLastYear  WorkLifeBalance  YearsAtCompany  \\\n",
       "Attrition                                                           \n",
       "No                      2.832928         2.781022        7.369019   \n",
       "Yes                     2.624473         2.658228        5.130802   \n",
       "\n",
       "           YearsInCurrentRole  YearsSinceLastPromotion  YearsWithCurrManager  \n",
       "Attrition                                                                     \n",
       "No                   4.484185                 2.234388              4.367397  \n",
       "Yes                  2.902954                 1.945148              2.852321  \n",
       "\n",
       "[2 rows x 26 columns]"
      ]
     },
     "execution_count": 20,
     "metadata": {},
     "output_type": "execute_result"
    }
   ],
   "source": [
    "a_df = pd.DataFrame(ibm_df.groupby('Attrition').mean())\n",
    "a_df"
   ]
  },
  {
   "cell_type": "code",
   "execution_count": 22,
   "id": "07004223",
   "metadata": {},
   "outputs": [
    {
     "data": {
      "text/plain": [
       "0    631\n",
       "1    596\n",
       "2    158\n",
       "3     85\n",
       "Name: StockOptionLevel, dtype: int64"
      ]
     },
     "execution_count": 22,
     "metadata": {},
     "output_type": "execute_result"
    }
   ],
   "source": [
    "ibm_df['StockOptionLevel'].value_counts()"
   ]
  }
 ],
 "metadata": {
  "kernelspec": {
   "display_name": "Python 3 (ipykernel)",
   "language": "python",
   "name": "python3"
  },
  "language_info": {
   "codemirror_mode": {
    "name": "ipython",
    "version": 3
   },
   "file_extension": ".py",
   "mimetype": "text/x-python",
   "name": "python",
   "nbconvert_exporter": "python",
   "pygments_lexer": "ipython3",
   "version": "3.9.7"
  }
 },
 "nbformat": 4,
 "nbformat_minor": 5
}
